{
 "cells": [
  {
   "cell_type": "code",
   "execution_count": null,
   "metadata": {},
   "outputs": [],
   "source": [
    "import pandas as pd\n",
    "import geopandas as gpd\n",
    "import numpy as np\n",
    "import xarray as xr\n",
    "import glob\n",
    "import os\n",
    "import re\n",
    "import sys\n",
    "import xarray as xr\n",
    "import rioxarray as rio\n",
    "dd_arpa = \"c:\\\\Users\\\\m1865\\\\Desktop\\\\GIS Thesis Python\\\\ARPA\"\n",
    "sys.path.append(os.path.abspath(\"c:\\\\Users\\\\m1865\\\\Desktop\\\\GIS Thesis Python\"))\n",
    "cwd = os.getcwd()"
   ]
  },
  {
   "cell_type": "code",
   "execution_count": null,
   "metadata": {},
   "outputs": [],
   "source": [
    "cams_NO2 = pd.read_csv(cwd + \"\\\\CAMS NO2 Upscale.csv\")\n",
    "cams_O3 = pd.read_csv(cwd + \"\\\\CAMS O3 Upscale.csv\")\n",
    "cams_PM10 = pd.read_csv(cwd + \"\\\\CAMS PM10 Upscale.csv\")\n",
    "cams_PM25 = pd.read_csv(cwd + \"\\\\CAMS PM25 Upscale.csv\")"
   ]
  },
  {
   "cell_type": "code",
   "execution_count": null,
   "metadata": {},
   "outputs": [],
   "source": [
    "cams_PM25"
   ]
  },
  {
   "cell_type": "code",
   "execution_count": null,
   "metadata": {},
   "outputs": [],
   "source": [
    "arpa_NO2 = pd.read_csv(cwd + \"\\\\ARPA NO2.csv\").round({'EST_UTM':-3,'NORD_UTM':-3})\n",
    "arpa_O3 = pd.read_csv(cwd + \"\\\\ARPA O3.csv\").round({'EST_UTM':-3,'NORD_UTM':-3})\n",
    "arpa_PM10 = pd.read_csv(cwd + \"\\\\ARPA PM10.csv\").round({'EST_UTM':-3,'NORD_UTM':-3})\n",
    "arpa_PM25 = pd.read_csv(cwd + \"\\\\ARPA PM25.csv\").round({'EST_UTM':-3,'NORD_UTM':-3})"
   ]
  },
  {
   "cell_type": "code",
   "execution_count": null,
   "metadata": {},
   "outputs": [],
   "source": [
    "arpa_NO2"
   ]
  },
  {
   "cell_type": "code",
   "execution_count": null,
   "metadata": {},
   "outputs": [],
   "source": [
    "arpa_NO2_sort = arpa_NO2.groupby(['NORD_UTM','EST_UTM','Month'],as_index=False).mean()\n",
    "arpa_NO2_sort = arpa_NO2_sort.drop(columns=['ID_CELLA','Cella_X','Cella_Y'])\n",
    "arpa_NO2_sort"
   ]
  },
  {
   "cell_type": "code",
   "execution_count": null,
   "metadata": {},
   "outputs": [],
   "source": [
    "arpa_O3_sort = arpa_O3.groupby(['NORD_UTM','EST_UTM','Month'],as_index=False).mean()\n",
    "arpa_O3_sort = arpa_O3_sort.drop(columns=['ID_CELLA','Cella_X','Cella_Y'])\n",
    "arpa_PM10_sort = arpa_PM10.groupby(['NORD_UTM','EST_UTM','Month'],as_index=False).mean()\n",
    "arpa_PM10_sort = arpa_PM10_sort.drop(columns=['ID_CELLA','Cella_X','Cella_Y'])\n",
    "arpa_PM25_sort = arpa_PM25.groupby(['NORD_UTM','EST_UTM','Month'],as_index=False).mean()\n",
    "arpa_PM25_sort = arpa_PM25_sort.drop(columns=['ID_CELLA','Cella_X','Cella_Y'])"
   ]
  },
  {
   "cell_type": "code",
   "execution_count": null,
   "metadata": {},
   "outputs": [],
   "source": [
    "NO2 = pd.merge(arpa_NO2_sort,cams_NO2,on=['NORD_UTM','EST_UTM'])\n",
    "NO2"
   ]
  },
  {
   "cell_type": "code",
   "execution_count": null,
   "metadata": {},
   "outputs": [],
   "source": [
    "O3 = pd.merge(arpa_O3_sort,cams_O3,on=['NORD_UTM','EST_UTM'])\n",
    "PM10 = pd.merge(arpa_PM10_sort,cams_PM10,on=['NORD_UTM','EST_UTM'])\n",
    "PM25 = pd.merge(arpa_PM25_sort,cams_PM25,on=['NORD_UTM','EST_UTM'])"
   ]
  },
  {
   "cell_type": "code",
   "execution_count": null,
   "metadata": {},
   "outputs": [],
   "source": [
    "NO2_bymonth = []\n",
    "for i in range(12):\n",
    "    NO2_bymonth.append(NO2[(NO2['Month_x']==(i+1))&(NO2['Month_y']==(i+1))])"
   ]
  },
  {
   "cell_type": "code",
   "execution_count": null,
   "metadata": {},
   "outputs": [],
   "source": [
    "NO2_bymonth[0]"
   ]
  },
  {
   "cell_type": "code",
   "execution_count": null,
   "metadata": {},
   "outputs": [],
   "source": []
  },
  {
   "cell_type": "code",
   "execution_count": null,
   "metadata": {},
   "outputs": [],
   "source": [
    "O3_bymonth = []\n",
    "PM10_bymonth = []\n",
    "PM25_bymonth = []\n",
    "for i in range(12):\n",
    "    O3_bymonth.append(O3[(O3['Month_x']==(i+1))&(O3['Month_y']==(i+1))])\n",
    "    PM10_bymonth.append(PM10[(PM10['Month_x']==(i+1))&(PM10['Month_y']==(i+1))])\n",
    "    PM25_bymonth.append(PM25[(PM25['Month_x']==(i+1))&(PM25['Month_y']==(i+1))])"
   ]
  },
  {
   "cell_type": "code",
   "execution_count": null,
   "metadata": {},
   "outputs": [],
   "source": [
    "from scipy.stats import pearsonr\n",
    "\n",
    "NO2_Pearson = pd.DataFrame(columns=['Pollutant','Month','Pearson Coefficient','p value'])\n",
    "for i in range(12):\n",
    "    r_pearson, p_pearson= pearsonr(NO2_bymonth[i]['Valore'],NO2_bymonth[i][['no2_conc']])\n",
    "    r_pearson = r_pearson[0]\n",
    "    r_pearson = float(f\"{r_pearson:.6f}\")\n",
    "    p_pearson = float(f\"{p_pearson:.6f}\")\n",
    "    df = pd.DataFrame({\n",
    "        'Pollutant': ['NO2'],\n",
    "        'Month': [i+1],\n",
    "        'Pearson Coefficient': [r_pearson],\n",
    "        'p value': [p_pearson]\n",
    "    })\n",
    "    NO2_Pearson = pd.concat([NO2_Pearson,df])"
   ]
  },
  {
   "cell_type": "code",
   "execution_count": null,
   "metadata": {},
   "outputs": [],
   "source": [
    "NO2_Pearson"
   ]
  },
  {
   "cell_type": "code",
   "execution_count": null,
   "metadata": {},
   "outputs": [],
   "source": [
    "O3_Pearson = pd.DataFrame(columns=['Pollutant','Month','Pearson Coefficient','p value'])\n",
    "PM10_Pearson = pd.DataFrame(columns=['Pollutant','Month','Pearson Coefficient','p value'])\n",
    "PM25_Pearson = pd.DataFrame(columns=['Pollutant','Month','Pearson Coefficient','p value'])\n",
    "for i in range(12):\n",
    "    r_pearson, p_pearson= pearsonr(O3_bymonth[i]['Valore'],O3_bymonth[i][['o3_conc']])\n",
    "    r_pearson = r_pearson[0]\n",
    "    r_pearson = float(f\"{r_pearson:.6f}\")\n",
    "    p_pearson = float(f\"{p_pearson:.6f}\")\n",
    "    df = pd.DataFrame({\n",
    "        'Pollutant': ['O3'],\n",
    "        'Month': [i+1],\n",
    "        'Pearson Coefficient': [r_pearson],\n",
    "        'p value': [p_pearson]\n",
    "    })\n",
    "    O3_Pearson = pd.concat([O3_Pearson,df])\n",
    "for i in range(12):\n",
    "    r_pearson, p_pearson= pearsonr(PM10_bymonth[i]['Valore'],PM10_bymonth[i][['pm10_conc']])\n",
    "    r_pearson = r_pearson[0]\n",
    "    r_pearson = float(f\"{r_pearson:.6f}\")\n",
    "    p_pearson = float(f\"{p_pearson:.6f}\")\n",
    "    df = pd.DataFrame({\n",
    "        'Pollutant': ['PM10'],\n",
    "        'Month': [i+1],\n",
    "        'Pearson Coefficient': [r_pearson],\n",
    "        'p value': [p_pearson]\n",
    "    })\n",
    "    PM10_Pearson = pd.concat([PM10_Pearson,df])\n",
    "for i in range(12):\n",
    "    r_pearson, p_pearson= pearsonr(PM25_bymonth[i]['Valore'],PM25_bymonth[i][['pm2p5_conc']])\n",
    "    r_pearson = r_pearson[0]\n",
    "    r_pearson = float(f\"{r_pearson:.6f}\")\n",
    "    p_pearson = float(f\"{p_pearson:.6f}\")\n",
    "    df = pd.DataFrame({\n",
    "        'Pollutant': ['PM25'],\n",
    "        'Month': [i+1],\n",
    "        'Pearson Coefficient': [r_pearson],\n",
    "        'p value': [p_pearson]\n",
    "    })\n",
    "    PM25_Pearson = pd.concat([PM25_Pearson,df])"
   ]
  },
  {
   "cell_type": "code",
   "execution_count": null,
   "metadata": {},
   "outputs": [],
   "source": [
    "O3_Pearson"
   ]
  },
  {
   "cell_type": "code",
   "execution_count": null,
   "metadata": {},
   "outputs": [],
   "source": [
    "PM10_Pearson"
   ]
  },
  {
   "cell_type": "code",
   "execution_count": null,
   "metadata": {},
   "outputs": [],
   "source": [
    "PM25_Pearson"
   ]
  },
  {
   "cell_type": "code",
   "execution_count": null,
   "metadata": {},
   "outputs": [],
   "source": [
    "Pearson_ALL = [NO2_Pearson,O3_Pearson,PM10_Pearson,PM25_Pearson]\n",
    "Pearson_ALL = pd.concat(Pearson_ALL)\n",
    "Pearson_ALL.to_excel('Pearson Coefficient of ARPA and CAMS.xlsx', index=False)"
   ]
  },
  {
   "cell_type": "code",
   "execution_count": null,
   "metadata": {},
   "outputs": [],
   "source": []
  }
 ],
 "metadata": {
  "kernelspec": {
   "display_name": "Python 3.10.4 ('Django')",
   "language": "python",
   "name": "python3"
  },
  "language_info": {
   "codemirror_mode": {
    "name": "ipython",
    "version": 3
   },
   "file_extension": ".py",
   "mimetype": "text/x-python",
   "name": "python",
   "nbconvert_exporter": "python",
   "pygments_lexer": "ipython3",
   "version": "3.10.4 | packaged by conda-forge | (main, Mar 30 2022, 08:38:02) [MSC v.1916 64 bit (AMD64)]"
  },
  "orig_nbformat": 4,
  "vscode": {
   "interpreter": {
    "hash": "7afa1cb9a3c5ad40056603cb099f0b47ba2cafdea1c10862e45c5b18b0ff3b33"
   }
  }
 },
 "nbformat": 4,
 "nbformat_minor": 2
}
