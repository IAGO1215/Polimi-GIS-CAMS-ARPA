{
 "cells": [
  {
   "cell_type": "markdown",
   "metadata": {},
   "source": [
    "# Description\n",
    "This script extracts the shapefile of the Lombardy region from NUTS level 2 dataset. "
   ]
  },
  {
   "cell_type": "code",
   "execution_count": 13,
   "metadata": {},
   "outputs": [],
   "source": [
    "import pandas as pd\n",
    "import geopandas as gpd\n",
    "import os\n",
    "cwd = os.getcwd()\n",
    "cwd_NUTS = cwd + \"\\\\NUTS\""
   ]
  },
  {
   "cell_type": "code",
   "execution_count": 2,
   "metadata": {},
   "outputs": [
    {
     "data": {
      "text/html": [
       "<div>\n",
       "<style scoped>\n",
       "    .dataframe tbody tr th:only-of-type {\n",
       "        vertical-align: middle;\n",
       "    }\n",
       "\n",
       "    .dataframe tbody tr th {\n",
       "        vertical-align: top;\n",
       "    }\n",
       "\n",
       "    .dataframe thead th {\n",
       "        text-align: right;\n",
       "    }\n",
       "</style>\n",
       "<table border=\"1\" class=\"dataframe\">\n",
       "  <thead>\n",
       "    <tr style=\"text-align: right;\">\n",
       "      <th></th>\n",
       "      <th>NUTS_ID</th>\n",
       "      <th>LEVL_CODE</th>\n",
       "      <th>CNTR_CODE</th>\n",
       "      <th>NAME_LATN</th>\n",
       "      <th>NUTS_NAME</th>\n",
       "      <th>MOUNT_TYPE</th>\n",
       "      <th>URBN_TYPE</th>\n",
       "      <th>COAST_TYPE</th>\n",
       "      <th>FID</th>\n",
       "      <th>geometry</th>\n",
       "    </tr>\n",
       "  </thead>\n",
       "  <tbody>\n",
       "    <tr>\n",
       "      <th>0</th>\n",
       "      <td>FRB0</td>\n",
       "      <td>2</td>\n",
       "      <td>FR</td>\n",
       "      <td>Centre — Val de Loire</td>\n",
       "      <td>Centre — Val de Loire</td>\n",
       "      <td>0.0</td>\n",
       "      <td>0</td>\n",
       "      <td>0</td>\n",
       "      <td>FRB0</td>\n",
       "      <td>POLYGON ((1.50153 48.94105, 1.51118 48.93461, ...</td>\n",
       "    </tr>\n",
       "    <tr>\n",
       "      <th>1</th>\n",
       "      <td>CZ04</td>\n",
       "      <td>2</td>\n",
       "      <td>CZ</td>\n",
       "      <td>Severozápad</td>\n",
       "      <td>Severozápad</td>\n",
       "      <td>0.0</td>\n",
       "      <td>0</td>\n",
       "      <td>0</td>\n",
       "      <td>CZ04</td>\n",
       "      <td>POLYGON ((14.49122 51.04353, 14.49945 51.04610...</td>\n",
       "    </tr>\n",
       "    <tr>\n",
       "      <th>2</th>\n",
       "      <td>CZ07</td>\n",
       "      <td>2</td>\n",
       "      <td>CZ</td>\n",
       "      <td>Střední Morava</td>\n",
       "      <td>Střední Morava</td>\n",
       "      <td>0.0</td>\n",
       "      <td>0</td>\n",
       "      <td>0</td>\n",
       "      <td>CZ07</td>\n",
       "      <td>POLYGON ((16.90792 50.44945, 16.92475 50.43939...</td>\n",
       "    </tr>\n",
       "    <tr>\n",
       "      <th>3</th>\n",
       "      <td>DK02</td>\n",
       "      <td>2</td>\n",
       "      <td>DK</td>\n",
       "      <td>Sjælland</td>\n",
       "      <td>Sjælland</td>\n",
       "      <td>0.0</td>\n",
       "      <td>0</td>\n",
       "      <td>0</td>\n",
       "      <td>DK02</td>\n",
       "      <td>MULTIPOLYGON (((12.27222 55.05490, 12.28522 55...</td>\n",
       "    </tr>\n",
       "    <tr>\n",
       "      <th>4</th>\n",
       "      <td>ES12</td>\n",
       "      <td>2</td>\n",
       "      <td>ES</td>\n",
       "      <td>Principado de Asturias</td>\n",
       "      <td>Principado de Asturias</td>\n",
       "      <td>0.0</td>\n",
       "      <td>0</td>\n",
       "      <td>0</td>\n",
       "      <td>ES12</td>\n",
       "      <td>MULTIPOLYGON (((-4.51230 43.39320, -4.51142 43...</td>\n",
       "    </tr>\n",
       "  </tbody>\n",
       "</table>\n",
       "</div>"
      ],
      "text/plain": [
       "  NUTS_ID  LEVL_CODE CNTR_CODE               NAME_LATN  \\\n",
       "0    FRB0          2        FR   Centre — Val de Loire   \n",
       "1    CZ04          2        CZ             Severozápad   \n",
       "2    CZ07          2        CZ          Střední Morava   \n",
       "3    DK02          2        DK                Sjælland   \n",
       "4    ES12          2        ES  Principado de Asturias   \n",
       "\n",
       "                NUTS_NAME  MOUNT_TYPE  URBN_TYPE  COAST_TYPE   FID  \\\n",
       "0   Centre — Val de Loire         0.0          0           0  FRB0   \n",
       "1             Severozápad         0.0          0           0  CZ04   \n",
       "2          Střední Morava         0.0          0           0  CZ07   \n",
       "3                Sjælland         0.0          0           0  DK02   \n",
       "4  Principado de Asturias         0.0          0           0  ES12   \n",
       "\n",
       "                                            geometry  \n",
       "0  POLYGON ((1.50153 48.94105, 1.51118 48.93461, ...  \n",
       "1  POLYGON ((14.49122 51.04353, 14.49945 51.04610...  \n",
       "2  POLYGON ((16.90792 50.44945, 16.92475 50.43939...  \n",
       "3  MULTIPOLYGON (((12.27222 55.05490, 12.28522 55...  \n",
       "4  MULTIPOLYGON (((-4.51230 43.39320, -4.51142 43...  "
      ]
     },
     "execution_count": 2,
     "metadata": {},
     "output_type": "execute_result"
    }
   ],
   "source": [
    "# Read NUTS shapefile (level 2)\n",
    "NUTS_2 = gpd.read_file(cwd_NUTS + '\\\\NUTS_RG_01M_2021_4326_LEVL_2.shp')\n",
    "NUTS_2.head()"
   ]
  },
  {
   "cell_type": "code",
   "execution_count": 4,
   "metadata": {},
   "outputs": [
    {
     "data": {
      "text/html": [
       "<div>\n",
       "<style scoped>\n",
       "    .dataframe tbody tr th:only-of-type {\n",
       "        vertical-align: middle;\n",
       "    }\n",
       "\n",
       "    .dataframe tbody tr th {\n",
       "        vertical-align: top;\n",
       "    }\n",
       "\n",
       "    .dataframe thead th {\n",
       "        text-align: right;\n",
       "    }\n",
       "</style>\n",
       "<table border=\"1\" class=\"dataframe\">\n",
       "  <thead>\n",
       "    <tr style=\"text-align: right;\">\n",
       "      <th></th>\n",
       "      <th>NUTS_ID</th>\n",
       "      <th>LEVL_CODE</th>\n",
       "      <th>CNTR_CODE</th>\n",
       "      <th>NAME_LATN</th>\n",
       "      <th>NUTS_NAME</th>\n",
       "      <th>MOUNT_TYPE</th>\n",
       "      <th>URBN_TYPE</th>\n",
       "      <th>COAST_TYPE</th>\n",
       "      <th>FID</th>\n",
       "      <th>geometry</th>\n",
       "    </tr>\n",
       "  </thead>\n",
       "  <tbody>\n",
       "    <tr>\n",
       "      <th>73</th>\n",
       "      <td>ITI4</td>\n",
       "      <td>2</td>\n",
       "      <td>IT</td>\n",
       "      <td>Lazio</td>\n",
       "      <td>Lazio</td>\n",
       "      <td>0.0</td>\n",
       "      <td>0</td>\n",
       "      <td>0</td>\n",
       "      <td>ITI4</td>\n",
       "      <td>MULTIPOLYGON (((11.89499 42.83465, 11.90512 42...</td>\n",
       "    </tr>\n",
       "    <tr>\n",
       "      <th>90</th>\n",
       "      <td>ITH2</td>\n",
       "      <td>2</td>\n",
       "      <td>IT</td>\n",
       "      <td>Provincia Autonoma di Trento</td>\n",
       "      <td>Provincia Autonoma di Trento</td>\n",
       "      <td>0.0</td>\n",
       "      <td>0</td>\n",
       "      <td>0</td>\n",
       "      <td>ITH2</td>\n",
       "      <td>POLYGON ((11.82834 46.50891, 11.82271 46.50210...</td>\n",
       "    </tr>\n",
       "    <tr>\n",
       "      <th>94</th>\n",
       "      <td>ITH3</td>\n",
       "      <td>2</td>\n",
       "      <td>IT</td>\n",
       "      <td>Veneto</td>\n",
       "      <td>Veneto</td>\n",
       "      <td>0.0</td>\n",
       "      <td>0</td>\n",
       "      <td>0</td>\n",
       "      <td>ITH3</td>\n",
       "      <td>MULTIPOLYGON (((12.69064 46.65697, 12.70063 46...</td>\n",
       "    </tr>\n",
       "    <tr>\n",
       "      <th>99</th>\n",
       "      <td>ITG1</td>\n",
       "      <td>2</td>\n",
       "      <td>IT</td>\n",
       "      <td>Sicilia</td>\n",
       "      <td>Sicilia</td>\n",
       "      <td>0.0</td>\n",
       "      <td>0</td>\n",
       "      <td>0</td>\n",
       "      <td>ITG1</td>\n",
       "      <td>MULTIPOLYGON (((15.25808 37.80722, 15.25617 37...</td>\n",
       "    </tr>\n",
       "    <tr>\n",
       "      <th>116</th>\n",
       "      <td>ITG2</td>\n",
       "      <td>2</td>\n",
       "      <td>IT</td>\n",
       "      <td>Sardegna</td>\n",
       "      <td>Sardegna</td>\n",
       "      <td>0.0</td>\n",
       "      <td>0</td>\n",
       "      <td>0</td>\n",
       "      <td>ITG2</td>\n",
       "      <td>MULTIPOLYGON (((9.74937 40.65810, 9.74923 40.6...</td>\n",
       "    </tr>\n",
       "  </tbody>\n",
       "</table>\n",
       "</div>"
      ],
      "text/plain": [
       "    NUTS_ID  LEVL_CODE CNTR_CODE                     NAME_LATN  \\\n",
       "73     ITI4          2        IT                         Lazio   \n",
       "90     ITH2          2        IT  Provincia Autonoma di Trento   \n",
       "94     ITH3          2        IT                        Veneto   \n",
       "99     ITG1          2        IT                       Sicilia   \n",
       "116    ITG2          2        IT                      Sardegna   \n",
       "\n",
       "                        NUTS_NAME  MOUNT_TYPE  URBN_TYPE  COAST_TYPE   FID  \\\n",
       "73                          Lazio         0.0          0           0  ITI4   \n",
       "90   Provincia Autonoma di Trento         0.0          0           0  ITH2   \n",
       "94                         Veneto         0.0          0           0  ITH3   \n",
       "99                        Sicilia         0.0          0           0  ITG1   \n",
       "116                      Sardegna         0.0          0           0  ITG2   \n",
       "\n",
       "                                              geometry  \n",
       "73   MULTIPOLYGON (((11.89499 42.83465, 11.90512 42...  \n",
       "90   POLYGON ((11.82834 46.50891, 11.82271 46.50210...  \n",
       "94   MULTIPOLYGON (((12.69064 46.65697, 12.70063 46...  \n",
       "99   MULTIPOLYGON (((15.25808 37.80722, 15.25617 37...  \n",
       "116  MULTIPOLYGON (((9.74937 40.65810, 9.74923 40.6...  "
      ]
     },
     "execution_count": 4,
     "metadata": {},
     "output_type": "execute_result"
    }
   ],
   "source": [
    "# Filter the row of Italy\n",
    "NUTS_IT = NUTS_2[NUTS_2['CNTR_CODE']=='IT']\n",
    "NUTS_IT.head()"
   ]
  },
  {
   "cell_type": "code",
   "execution_count": 6,
   "metadata": {},
   "outputs": [
    {
     "data": {
      "text/plain": [
       "array(['Lazio', 'Provincia Autonoma di Trento', 'Veneto', 'Sicilia',\n",
       "       'Sardegna', 'Provincia Autonoma di Bolzano/Bozen', 'Piemonte',\n",
       "       'Marche', 'Abruzzo', 'Valle d’Aosta/Vallée d’Aoste', 'Molise',\n",
       "       'Lombardia', 'Campania', 'Umbria', 'Toscana', 'Emilia-Romagna',\n",
       "       'Friuli-Venezia Giulia', 'Puglia', 'Basilicata', 'Calabria',\n",
       "       'Liguria'], dtype=object)"
      ]
     },
     "execution_count": 6,
     "metadata": {},
     "output_type": "execute_result"
    }
   ],
   "source": [
    "# Get the list of all the regions in case of the wrong spelling\n",
    "NUTS_IT['NUTS_NAME'].unique()"
   ]
  },
  {
   "cell_type": "code",
   "execution_count": 7,
   "metadata": {},
   "outputs": [
    {
     "data": {
      "text/html": [
       "<div>\n",
       "<style scoped>\n",
       "    .dataframe tbody tr th:only-of-type {\n",
       "        vertical-align: middle;\n",
       "    }\n",
       "\n",
       "    .dataframe tbody tr th {\n",
       "        vertical-align: top;\n",
       "    }\n",
       "\n",
       "    .dataframe thead th {\n",
       "        text-align: right;\n",
       "    }\n",
       "</style>\n",
       "<table border=\"1\" class=\"dataframe\">\n",
       "  <thead>\n",
       "    <tr style=\"text-align: right;\">\n",
       "      <th></th>\n",
       "      <th>NUTS_ID</th>\n",
       "      <th>LEVL_CODE</th>\n",
       "      <th>CNTR_CODE</th>\n",
       "      <th>NAME_LATN</th>\n",
       "      <th>NUTS_NAME</th>\n",
       "      <th>MOUNT_TYPE</th>\n",
       "      <th>URBN_TYPE</th>\n",
       "      <th>COAST_TYPE</th>\n",
       "      <th>FID</th>\n",
       "      <th>geometry</th>\n",
       "    </tr>\n",
       "  </thead>\n",
       "  <tbody>\n",
       "    <tr>\n",
       "      <th>184</th>\n",
       "      <td>ITC4</td>\n",
       "      <td>2</td>\n",
       "      <td>IT</td>\n",
       "      <td>Lombardia</td>\n",
       "      <td>Lombardia</td>\n",
       "      <td>0.0</td>\n",
       "      <td>0</td>\n",
       "      <td>0</td>\n",
       "      <td>ITC4</td>\n",
       "      <td>MULTIPOLYGON (((10.45280 46.53068, 10.45814 46...</td>\n",
       "    </tr>\n",
       "  </tbody>\n",
       "</table>\n",
       "</div>"
      ],
      "text/plain": [
       "    NUTS_ID  LEVL_CODE CNTR_CODE  NAME_LATN  NUTS_NAME  MOUNT_TYPE  URBN_TYPE  \\\n",
       "184    ITC4          2        IT  Lombardia  Lombardia         0.0          0   \n",
       "\n",
       "     COAST_TYPE   FID                                           geometry  \n",
       "184           0  ITC4  MULTIPOLYGON (((10.45280 46.53068, 10.45814 46...  "
      ]
     },
     "execution_count": 7,
     "metadata": {},
     "output_type": "execute_result"
    }
   ],
   "source": [
    "# Filter the row of the Lombardy\n",
    "NUTS_Lom = NUTS_IT[NUTS_IT['NUTS_NAME']=='Lombardia']\n",
    "NUTS_Lom"
   ]
  },
  {
   "cell_type": "code",
   "execution_count": 8,
   "metadata": {},
   "outputs": [
    {
     "data": {
      "text/plain": [
       "<Geographic 2D CRS: EPSG:4326>\n",
       "Name: WGS 84\n",
       "Axis Info [ellipsoidal]:\n",
       "- Lat[north]: Geodetic latitude (degree)\n",
       "- Lon[east]: Geodetic longitude (degree)\n",
       "Area of Use:\n",
       "- name: World.\n",
       "- bounds: (-180.0, -90.0, 180.0, 90.0)\n",
       "Datum: World Geodetic System 1984 ensemble\n",
       "- Ellipsoid: WGS 84\n",
       "- Prime Meridian: Greenwich"
      ]
     },
     "execution_count": 8,
     "metadata": {},
     "output_type": "execute_result"
    }
   ],
   "source": [
    "# Check again if the CRS is 4326\n",
    "NUTS_Lom.crs"
   ]
  },
  {
   "cell_type": "code",
   "execution_count": 10,
   "metadata": {},
   "outputs": [
    {
     "data": {
      "text/plain": [
       "<AxesSubplot:>"
      ]
     },
     "execution_count": 10,
     "metadata": {},
     "output_type": "execute_result"
    },
    {
     "data": {
      "image/png": "[encoded data removed]",
      "text/plain": [
       "<Figure size 432x288 with 1 Axes>"
      ]
     },
     "metadata": {
      "needs_background": "light"
     },
     "output_type": "display_data"
    }
   ],
   "source": [
    "# Plot to have an overview about if the shapefile is correct\n",
    "NUTS_Lom.plot()"
   ]
  },
  {
   "cell_type": "code",
   "execution_count": 16,
   "metadata": {},
   "outputs": [],
   "source": [
    "# Save to cwd\n",
    "NUTS_Lom.to_file(cwd_NUTS + '\\\\lom.shp')"
   ]
  }
 ],
 "metadata": {
  "kernelspec": {
   "display_name": "Python 3.10.4 ('Django')",
   "language": "python",
   "name": "python3"
  },
  "language_info": {
   "codemirror_mode": {
    "name": "ipython",
    "version": 3
   },
   "file_extension": ".py",
   "mimetype": "text/x-python",
   "name": "python",
   "nbconvert_exporter": "python",
   "pygments_lexer": "ipython3",
   "version": "3.10.4"
  },
  "orig_nbformat": 4,
  "vscode": {
   "interpreter": {
    "hash": "7afa1cb9a3c5ad40056603cb099f0b47ba2cafdea1c10862e45c5b18b0ff3b33"
   }
  }
 },
 "nbformat": 4,
 "nbformat_minor": 2
}
