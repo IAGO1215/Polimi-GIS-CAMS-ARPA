{
 "cells": [
  {
   "cell_type": "code",
   "execution_count": null,
   "metadata": {},
   "outputs": [],
   "source": [
    "import pandas as pd\n",
    "import geopandas as gpd\n",
    "import numpy as np\n",
    "import xarray as xr\n",
    "import glob\n",
    "import os\n",
    "import re\n",
    "import sys\n",
    "import xarray as xr\n",
    "import rioxarray as rio\n",
    "sys.path.append(os.path.abspath(\"c:\\\\Users\\\\m1865\\\\Desktop\\\\GIS Thesis Python\"))\n",
    "import mySTD\n",
    "# Data directory of ARPA data\n",
    "dd_arpa = \"c:\\\\Users\\\\m1865\\\\Desktop\\\\GIS Thesis Python\\\\ARPA\"\n",
    "dd_cams = \"c:\\\\Users\\\\m1865\\\\Desktop\\\\GIS Thesis Python\\\\CAMS\"\n",
    "dd_main = \"c:\\\\Users\\\\m1865\\\\Desktop\\\\GIS Thesis Python\"\n",
    "# Set current working directory\n",
    "cwd = os.getcwd()\n",
    "cwd"
   ]
  },
  {
   "cell_type": "code",
   "execution_count": null,
   "metadata": {},
   "outputs": [],
   "source": [
    "cams_NO2 = pd.read_csv(cwd + \"\\\\CAMS NO2 Upscale.csv\")\n",
    "cams_O3 = pd.read_csv(cwd + \"\\\\CAMS O3 Upscale.csv\")\n",
    "cams_PM10 = pd.read_csv(cwd + \"\\\\CAMS PM10 Upscale.csv\")\n",
    "cams_PM25 = pd.read_csv(cwd + \"\\\\CAMS PM25 Upscale.csv\")"
   ]
  },
  {
   "cell_type": "code",
   "execution_count": null,
   "metadata": {},
   "outputs": [],
   "source": [
    "cams_NO2"
   ]
  },
  {
   "cell_type": "code",
   "execution_count": null,
   "metadata": {},
   "outputs": [],
   "source": [
    "arpa_NO2 = pd.read_csv(cwd + \"\\\\ARPA NO2.csv\")\n",
    "arpa_O3 = pd.read_csv(cwd + \"\\\\ARPA O3.csv\")\n",
    "arpa_PM10 = pd.read_csv(cwd + \"\\\\ARPA PM10.csv\")\n",
    "arpa_PM25 = pd.read_csv(cwd + \"\\\\ARPA PM25.csv\")"
   ]
  },
  {
   "cell_type": "code",
   "execution_count": null,
   "metadata": {},
   "outputs": [],
   "source": [
    "arpa_NO2"
   ]
  },
  {
   "cell_type": "code",
   "execution_count": null,
   "metadata": {},
   "outputs": [],
   "source": [
    "cams_NO2_average = cams_NO2.groupby('Month',as_index=False).mean().drop(columns={'EST_UTM','NORD_UTM'})\n",
    "cams_O3_average = cams_O3.groupby('Month',as_index=False).mean().drop(columns={'EST_UTM','NORD_UTM'})\n",
    "cams_PM10_average = cams_PM10.groupby('Month',as_index=False).mean().drop(columns={'EST_UTM','NORD_UTM'})\n",
    "cams_PM25_average = cams_PM25.groupby('Month',as_index=False).mean().drop(columns={'EST_UTM','NORD_UTM'})"
   ]
  },
  {
   "cell_type": "code",
   "execution_count": null,
   "metadata": {},
   "outputs": [],
   "source": [
    "cams_NO2_average"
   ]
  },
  {
   "cell_type": "code",
   "execution_count": null,
   "metadata": {},
   "outputs": [],
   "source": [
    "arpa_NO2_average = arpa_NO2.groupby(['Inquinante','Month'],as_index=False).mean().drop(columns={'ID_CELLA','Cella_X','Cella_Y','NORD_UTM','EST_UTM'})\n",
    "arpa_O3_average = arpa_O3.groupby(['Inquinante','Month'],as_index=False).mean().drop(columns={'ID_CELLA','Cella_X','Cella_Y','NORD_UTM','EST_UTM'})\n",
    "arpa_PM10_average = arpa_PM10.groupby(['Inquinante','Month'],as_index=False).mean().drop(columns={'ID_CELLA','Cella_X','Cella_Y','NORD_UTM','EST_UTM'})\n",
    "arpa_PM25_average = arpa_PM25.groupby(['Inquinante','Month'],as_index=False).mean().drop(columns={'ID_CELLA','Cella_X','Cella_Y','NORD_UTM','EST_UTM'})"
   ]
  },
  {
   "cell_type": "code",
   "execution_count": null,
   "metadata": {},
   "outputs": [],
   "source": [
    "arpa_NO2_average"
   ]
  },
  {
   "cell_type": "code",
   "execution_count": null,
   "metadata": {},
   "outputs": [],
   "source": [
    "NO2 = pd.merge(cams_NO2_average,arpa_NO2_average)\n",
    "O3 = pd.merge(cams_O3_average,arpa_O3_average)\n",
    "PM10 = pd.merge(cams_PM10_average,arpa_PM10_average)\n",
    "PM25 = pd.merge(cams_PM25_average,arpa_PM25_average)"
   ]
  },
  {
   "cell_type": "code",
   "execution_count": null,
   "metadata": {},
   "outputs": [],
   "source": [
    "NO2 = NO2[['Inquinante','Month','no2_conc','Valore']]\n",
    "O3 = O3[['Inquinante','Month','o3_conc','Valore']]\n",
    "PM10 = PM10[['Inquinante','Month','pm10_conc','Valore']]\n",
    "PM25 = PM25[['Inquinante','Month','pm2p5_conc','Valore']]\n",
    "NO2"
   ]
  },
  {
   "cell_type": "code",
   "execution_count": null,
   "metadata": {},
   "outputs": [],
   "source": [
    "NO2.rename(columns={'no2_conc': 'Average of CAMS Upscale','Valore': 'Average of ARPA'},inplace=True)\n",
    "O3.rename(columns={'o3_conc': 'Average of CAMS Upscale','Valore': 'Average of ARPA'},inplace=True)\n",
    "PM10.rename(columns={'pm10_conc': 'Average of CAMS Upscale','Valore': 'Average of ARPA'},inplace=True)\n",
    "PM25.rename(columns={'pm2p5_conc': 'Average of CAMS Upscale','Valore': 'Average of ARPA'},inplace=True)"
   ]
  },
  {
   "cell_type": "code",
   "execution_count": null,
   "metadata": {},
   "outputs": [],
   "source": [
    "NO2"
   ]
  },
  {
   "cell_type": "code",
   "execution_count": null,
   "metadata": {},
   "outputs": [],
   "source": [
    "NO2['Bias (CAMS - ARPA)'] = NO2['Average of CAMS Upscale'] - NO2['Average of ARPA']\n",
    "O3['Bias (CAMS - ARPA)'] = O3['Average of CAMS Upscale'] - O3['Average of ARPA']\n",
    "PM10['Bias (CAMS - ARPA)'] = PM10['Average of CAMS Upscale'] - PM10['Average of ARPA']\n",
    "PM25['Bias (CAMS - ARPA)'] = PM25['Average of CAMS Upscale'] - PM25['Average of ARPA']\n",
    "NO2"
   ]
  },
  {
   "cell_type": "code",
   "execution_count": null,
   "metadata": {},
   "outputs": [],
   "source": [
    "bias_ALL = [NO2,O3,PM10,PM25]\n",
    "bias_ALL = pd.concat(bias_ALL)\n",
    "bias_ALL.to_csv(cwd + \"\\\\Bias.csv\",index=False)"
   ]
  },
  {
   "cell_type": "code",
   "execution_count": null,
   "metadata": {},
   "outputs": [],
   "source": []
  }
 ],
 "metadata": {
  "kernelspec": {
   "display_name": "Python 3.10.4 ('Django')",
   "language": "python",
   "name": "python3"
  },
  "language_info": {
   "codemirror_mode": {
    "name": "ipython",
    "version": 3
   },
   "file_extension": ".py",
   "mimetype": "text/x-python",
   "name": "python",
   "nbconvert_exporter": "python",
   "pygments_lexer": "ipython3",
   "version": "3.10.4 | packaged by conda-forge | (main, Mar 30 2022, 08:38:02) [MSC v.1916 64 bit (AMD64)]"
  },
  "orig_nbformat": 4,
  "vscode": {
   "interpreter": {
    "hash": "7afa1cb9a3c5ad40056603cb099f0b47ba2cafdea1c10862e45c5b18b0ff3b33"
   }
  }
 },
 "nbformat": 4,
 "nbformat_minor": 2
}
