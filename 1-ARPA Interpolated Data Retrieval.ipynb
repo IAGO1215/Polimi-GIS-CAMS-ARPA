{
 "cells": [
  {
   "cell_type": "markdown",
   "metadata": {},
   "source": [
    "# Description and Credit\n",
    "This script is modified from the initial version created by [Capizzi Emanuele](https://github.com/capizziemanuele).  \n",
    "It automatically downloads the interpolated ARPA compressed .gz data files and decompresses them into .txt files and save them into local storage. "
   ]
  },
  {
   "cell_type": "code",
   "execution_count": 1,
   "metadata": {},
   "outputs": [],
   "source": [
    "import os\n",
    "import urllib.request\n",
    "import gzip\n",
    "import pandas as pd\n",
    "# Working directories\n",
    "cwd = os.getcwd()\n",
    "cwd_ARPA = cwd + \"\\\\ARPA\""
   ]
  },
  {
   "cell_type": "markdown",
   "metadata": {},
   "source": [
    "## Retrieve all the daily data in the year of **2021**"
   ]
  },
  {
   "cell_type": "code",
   "execution_count": 2,
   "metadata": {},
   "outputs": [
    {
     "name": "stderr",
     "output_type": "stream",
     "text": [
      "c:\\ProgramData\\Anaconda3\\envs\\Django\\lib\\site-packages\\IPython\\core\\interactiveshell.py:3398: UserWarning: Parsing '31/12/2021' in DD/MM/YYYY format. Provide format or specify infer_datetime_format=True for consistent parsing.\n",
      "  exec(code_obj, self.user_global_ns, self.user_ns)\n"
     ]
    },
    {
     "data": {
      "text/plain": [
       "DatetimeIndex(['2021-01-01', '2021-01-02', '2021-01-03', '2021-01-04',\n",
       "               '2021-01-05', '2021-01-06', '2021-01-07'],\n",
       "              dtype='datetime64[ns]', freq='D')"
      ]
     },
     "execution_count": 2,
     "metadata": {},
     "output_type": "execute_result"
    }
   ],
   "source": [
    "# Create a list which consists of all the dates in 2021\n",
    "daylist_2021 = pd.date_range(start='01/01/2021', end='31/12/2021')\n",
    "daylist_2021[0:7]"
   ]
  },
  {
   "cell_type": "markdown",
   "metadata": {},
   "source": [
    "### NO2 "
   ]
  },
  {
   "cell_type": "code",
   "execution_count": 3,
   "metadata": {},
   "outputs": [],
   "source": [
    "for date in daylist_2021:\n",
    "    # Get the day, month and year from the date in the date list. Autofill the day and month to 2 digits. \n",
    "    current_day = str(date.day).zfill(2)\n",
    "    current_month = str(date.month).zfill(2)\n",
    "    current_year = str(date.year)\n",
    "\n",
    "    # Set the name of the pollutant\n",
    "    pollutant = 'NO2'\n",
    "\n",
    "    # URL request\n",
    "    url = \"https://arpazmodel2.blob.core.windows.net/vmqa/2021_VMQA/\"+pollutant+'/'+pollutant+'_'+current_year+current_month+current_day+\".txt.gz\"\n",
    "    file_decompress = pollutant+current_year+current_month+current_day+\".txt\"\n",
    "\n",
    "    # Decompress and save into local storage\n",
    "    response = urllib.request.urlopen(url)\n",
    "    with open(cwd_ARPA + '\\\\'+ current_year + '\\\\' + pollutant + '\\\\' + file_decompress, 'wb') as outfile:    \n",
    "        outfile.write(gzip.decompress(response.read()))\n",
    "\n"
   ]
  },
  {
   "cell_type": "markdown",
   "metadata": {},
   "source": [
    "### O3"
   ]
  },
  {
   "cell_type": "code",
   "execution_count": 4,
   "metadata": {},
   "outputs": [],
   "source": [
    "for date in daylist_2021:\n",
    "    # Get the day, month and year from the date in the date list. Autofill the day and month to 2 digits. \n",
    "    current_day = str(date.day).zfill(2)\n",
    "    current_month = str(date.month).zfill(2)\n",
    "    current_year = str(date.year)\n",
    "\n",
    "    # Set the name of the pollutant\n",
    "    pollutant = 'O3'\n",
    "\n",
    "    # URL request\n",
    "    url = \"https://arpazmodel2.blob.core.windows.net/vmqa/2021_VMQA/\"+pollutant+'/'+pollutant+'_'+current_year+current_month+current_day+\".txt.gz\"\n",
    "    file_decompress = pollutant+current_year+current_month+current_day+\".txt\"\n",
    "\n",
    "    # Decompress and save into local storage\n",
    "    response = urllib.request.urlopen(url)\n",
    "    with open(cwd_ARPA + '\\\\'+ current_year + '\\\\' + pollutant + '\\\\' + file_decompress, 'wb') as outfile:    \n",
    "        outfile.write(gzip.decompress(response.read()))"
   ]
  },
  {
   "cell_type": "markdown",
   "metadata": {},
   "source": [
    "### PM 10"
   ]
  },
  {
   "cell_type": "code",
   "execution_count": 5,
   "metadata": {},
   "outputs": [],
   "source": [
    "for date in daylist_2021:\n",
    "    # Get the day, month and year from the date in the date list. Autofill the day and month to 2 digits. \n",
    "    current_day = str(date.day).zfill(2)\n",
    "    current_month = str(date.month).zfill(2)\n",
    "    current_year = str(date.year)\n",
    "\n",
    "    # Set the name of the pollutant\n",
    "    pollutant = 'PM10'\n",
    "\n",
    "    # URL request\n",
    "    url = \"https://arpazmodel2.blob.core.windows.net/vmqa/2021_VMQA/\"+pollutant+'/'+pollutant+'_'+current_year+current_month+current_day+\".txt.gz\"\n",
    "    file_decompress = pollutant+current_year+current_month+current_day+\".txt\"\n",
    "\n",
    "    # Decompress and save into local storage\n",
    "    response = urllib.request.urlopen(url)\n",
    "    with open(cwd_ARPA + '\\\\'+ current_year + '\\\\' + pollutant + '\\\\' + file_decompress, 'wb') as outfile:    \n",
    "        outfile.write(gzip.decompress(response.read()))"
   ]
  },
  {
   "cell_type": "markdown",
   "metadata": {},
   "source": [
    "### PM 2.5"
   ]
  },
  {
   "cell_type": "code",
   "execution_count": 6,
   "metadata": {},
   "outputs": [],
   "source": [
    "for date in daylist_2021:\n",
    "    # Get the day, month and year from the date in the date list. Autofill the day and month to 2 digits. \n",
    "    current_day = str(date.day).zfill(2)\n",
    "    current_month = str(date.month).zfill(2)\n",
    "    current_year = str(date.year)\n",
    "\n",
    "    # Set the name of the pollutant\n",
    "    pollutant = 'PM25'\n",
    "\n",
    "    # URL request\n",
    "    url = \"https://arpazmodel2.blob.core.windows.net/vmqa/2021_VMQA/\"+pollutant+'/'+pollutant+'_'+current_year+current_month+current_day+\".txt.gz\"\n",
    "    file_decompress = pollutant+current_year+current_month+current_day+\".txt\"\n",
    "\n",
    "    # Decompress and save into local storage\n",
    "    response = urllib.request.urlopen(url)\n",
    "    with open(cwd_ARPA + '\\\\'+ current_year + '\\\\' + pollutant + '\\\\' + file_decompress, 'wb') as outfile:    \n",
    "        outfile.write(gzip.decompress(response.read()))"
   ]
  }
 ],
 "metadata": {
  "kernelspec": {
   "display_name": "Python 3.10.4 ('Django')",
   "language": "python",
   "name": "python3"
  },
  "language_info": {
   "codemirror_mode": {
    "name": "ipython",
    "version": 3
   },
   "file_extension": ".py",
   "mimetype": "text/x-python",
   "name": "python",
   "nbconvert_exporter": "python",
   "pygments_lexer": "ipython3",
   "version": "3.10.4"
  },
  "orig_nbformat": 4,
  "vscode": {
   "interpreter": {
    "hash": "7afa1cb9a3c5ad40056603cb099f0b47ba2cafdea1c10862e45c5b18b0ff3b33"
   }
  }
 },
 "nbformat": 4,
 "nbformat_minor": 2
}
