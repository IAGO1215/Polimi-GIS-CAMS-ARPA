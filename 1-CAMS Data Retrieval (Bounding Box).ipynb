{
 "cells": [
  {
   "cell_type": "markdown",
   "metadata": {},
   "source": [
    "# Description\n",
    "This script automatically downloads all the monthly data from \"European Air Quality Forecast\" dataset of the CAMS within a pre-defined bounding box. In this case study, we will use a bounding box which contains the entire territory of Italy.   \n",
    "All the .nc files downloaded have their names in **\"Pollutant + yyyy + mm\"** format, such as \"O3202106.nc\". "
   ]
  },
  {
   "cell_type": "code",
   "execution_count": 1,
   "metadata": {},
   "outputs": [],
   "source": [
    "import cdsapi\n",
    "import pandas as pd\n",
    "import geopandas as gpd\n",
    "import os\n",
    "c = cdsapi.Client()\n",
    "cwd = os.getcwd()\n",
    "cwd_CAMS = cwd + \"\\\\CAMS\"\n",
    "cwd_NUTS = cwd + \"\\\\NUTS\""
   ]
  },
  {
   "cell_type": "markdown",
   "metadata": {},
   "source": [
    "## Create a bounding box based on the shapefile of Italy. "
   ]
  },
  {
   "cell_type": "code",
   "execution_count": 2,
   "metadata": {},
   "outputs": [
    {
     "data": {
      "text/html": [
       "<div>\n",
       "<style scoped>\n",
       "    .dataframe tbody tr th:only-of-type {\n",
       "        vertical-align: middle;\n",
       "    }\n",
       "\n",
       "    .dataframe tbody tr th {\n",
       "        vertical-align: top;\n",
       "    }\n",
       "\n",
       "    .dataframe thead th {\n",
       "        text-align: right;\n",
       "    }\n",
       "</style>\n",
       "<table border=\"1\" class=\"dataframe\">\n",
       "  <thead>\n",
       "    <tr style=\"text-align: right;\">\n",
       "      <th></th>\n",
       "      <th>NUTS_ID</th>\n",
       "      <th>LEVL_CODE</th>\n",
       "      <th>CNTR_CODE</th>\n",
       "      <th>NAME_LATN</th>\n",
       "      <th>NUTS_NAME</th>\n",
       "      <th>MOUNT_TYPE</th>\n",
       "      <th>URBN_TYPE</th>\n",
       "      <th>COAST_TYPE</th>\n",
       "      <th>FID</th>\n",
       "      <th>geometry</th>\n",
       "    </tr>\n",
       "  </thead>\n",
       "  <tbody>\n",
       "    <tr>\n",
       "      <th>0</th>\n",
       "      <td>CZ</td>\n",
       "      <td>0</td>\n",
       "      <td>CZ</td>\n",
       "      <td>Česko</td>\n",
       "      <td>Česko</td>\n",
       "      <td>0</td>\n",
       "      <td>None</td>\n",
       "      <td>0</td>\n",
       "      <td>CZ</td>\n",
       "      <td>POLYGON ((14.49122 51.04353, 14.49945 51.04610...</td>\n",
       "    </tr>\n",
       "    <tr>\n",
       "      <th>1</th>\n",
       "      <td>DE</td>\n",
       "      <td>0</td>\n",
       "      <td>DE</td>\n",
       "      <td>Deutschland</td>\n",
       "      <td>Deutschland</td>\n",
       "      <td>0</td>\n",
       "      <td>None</td>\n",
       "      <td>0</td>\n",
       "      <td>DE</td>\n",
       "      <td>MULTIPOLYGON (((10.45444 47.55580, 10.43954 47...</td>\n",
       "    </tr>\n",
       "    <tr>\n",
       "      <th>2</th>\n",
       "      <td>DK</td>\n",
       "      <td>0</td>\n",
       "      <td>DK</td>\n",
       "      <td>Danmark</td>\n",
       "      <td>Danmark</td>\n",
       "      <td>0</td>\n",
       "      <td>None</td>\n",
       "      <td>0</td>\n",
       "      <td>DK</td>\n",
       "      <td>MULTIPOLYGON (((15.19308 55.32014, 15.19056 55...</td>\n",
       "    </tr>\n",
       "    <tr>\n",
       "      <th>3</th>\n",
       "      <td>AL</td>\n",
       "      <td>0</td>\n",
       "      <td>AL</td>\n",
       "      <td>Shqipëria</td>\n",
       "      <td>Shqipëria</td>\n",
       "      <td>0</td>\n",
       "      <td>None</td>\n",
       "      <td>0</td>\n",
       "      <td>AL</td>\n",
       "      <td>MULTIPOLYGON (((19.83100 42.46645, 19.83568 42...</td>\n",
       "    </tr>\n",
       "    <tr>\n",
       "      <th>4</th>\n",
       "      <td>CY</td>\n",
       "      <td>0</td>\n",
       "      <td>CY</td>\n",
       "      <td>Kýpros</td>\n",
       "      <td>Κύπρος</td>\n",
       "      <td>0</td>\n",
       "      <td>None</td>\n",
       "      <td>0</td>\n",
       "      <td>CY</td>\n",
       "      <td>MULTIPOLYGON (((34.60609 35.70767, 34.60060 35...</td>\n",
       "    </tr>\n",
       "  </tbody>\n",
       "</table>\n",
       "</div>"
      ],
      "text/plain": [
       "  NUTS_ID  LEVL_CODE CNTR_CODE    NAME_LATN    NUTS_NAME  MOUNT_TYPE  \\\n",
       "0      CZ          0        CZ        Česko        Česko           0   \n",
       "1      DE          0        DE  Deutschland  Deutschland           0   \n",
       "2      DK          0        DK      Danmark      Danmark           0   \n",
       "3      AL          0        AL    Shqipëria    Shqipëria           0   \n",
       "4      CY          0        CY       Kýpros       Κύπρος           0   \n",
       "\n",
       "  URBN_TYPE  COAST_TYPE FID                                           geometry  \n",
       "0      None           0  CZ  POLYGON ((14.49122 51.04353, 14.49945 51.04610...  \n",
       "1      None           0  DE  MULTIPOLYGON (((10.45444 47.55580, 10.43954 47...  \n",
       "2      None           0  DK  MULTIPOLYGON (((15.19308 55.32014, 15.19056 55...  \n",
       "3      None           0  AL  MULTIPOLYGON (((19.83100 42.46645, 19.83568 42...  \n",
       "4      None           0  CY  MULTIPOLYGON (((34.60609 35.70767, 34.60060 35...  "
      ]
     },
     "execution_count": 2,
     "metadata": {},
     "output_type": "execute_result"
    }
   ],
   "source": [
    "# Read NUTS shapefile (level 0)\n",
    "NUTS_0 = gpd.read_file(cwd_NUTS + '\\\\NUTS_RG_01M_2021_4326_LEVL_0.shp')\n",
    "NUTS_0.head()"
   ]
  },
  {
   "cell_type": "code",
   "execution_count": 3,
   "metadata": {},
   "outputs": [
    {
     "data": {
      "text/html": [
       "<div>\n",
       "<style scoped>\n",
       "    .dataframe tbody tr th:only-of-type {\n",
       "        vertical-align: middle;\n",
       "    }\n",
       "\n",
       "    .dataframe tbody tr th {\n",
       "        vertical-align: top;\n",
       "    }\n",
       "\n",
       "    .dataframe thead th {\n",
       "        text-align: right;\n",
       "    }\n",
       "</style>\n",
       "<table border=\"1\" class=\"dataframe\">\n",
       "  <thead>\n",
       "    <tr style=\"text-align: right;\">\n",
       "      <th></th>\n",
       "      <th>NUTS_ID</th>\n",
       "      <th>LEVL_CODE</th>\n",
       "      <th>CNTR_CODE</th>\n",
       "      <th>NAME_LATN</th>\n",
       "      <th>NUTS_NAME</th>\n",
       "      <th>MOUNT_TYPE</th>\n",
       "      <th>URBN_TYPE</th>\n",
       "      <th>COAST_TYPE</th>\n",
       "      <th>FID</th>\n",
       "      <th>geometry</th>\n",
       "    </tr>\n",
       "  </thead>\n",
       "  <tbody>\n",
       "    <tr>\n",
       "      <th>18</th>\n",
       "      <td>IT</td>\n",
       "      <td>0</td>\n",
       "      <td>IT</td>\n",
       "      <td>Italia</td>\n",
       "      <td>Italia</td>\n",
       "      <td>0</td>\n",
       "      <td>None</td>\n",
       "      <td>0</td>\n",
       "      <td>IT</td>\n",
       "      <td>MULTIPOLYGON (((12.24075 47.06917, 12.23652 47...</td>\n",
       "    </tr>\n",
       "  </tbody>\n",
       "</table>\n",
       "</div>"
      ],
      "text/plain": [
       "   NUTS_ID  LEVL_CODE CNTR_CODE NAME_LATN NUTS_NAME  MOUNT_TYPE URBN_TYPE  \\\n",
       "18      IT          0        IT    Italia    Italia           0      None   \n",
       "\n",
       "    COAST_TYPE FID                                           geometry  \n",
       "18           0  IT  MULTIPOLYGON (((12.24075 47.06917, 12.23652 47...  "
      ]
     },
     "execution_count": 3,
     "metadata": {},
     "output_type": "execute_result"
    }
   ],
   "source": [
    "# Filter the row of Italy\n",
    "NUTS_IT = NUTS_0[NUTS_0['NUTS_ID']=='IT']\n",
    "NUTS_IT"
   ]
  },
  {
   "cell_type": "code",
   "execution_count": 9,
   "metadata": {},
   "outputs": [
    {
     "data": {
      "text/plain": [
       "[47.09, 6.63, 35.49, 18.52]"
      ]
     },
     "execution_count": 9,
     "metadata": {},
     "output_type": "execute_result"
    }
   ],
   "source": [
    "# Create a bounding box. \n",
    "bounding_lon_min = NUTS_IT.bounds.iloc[0,0].round(2)\n",
    "bounding_lon_max = NUTS_IT.bounds.iloc[0,2].round(2)\n",
    "bounding_lat_min = NUTS_IT.bounds.iloc[0,1].round(2)\n",
    "bounding_lat_max = NUTS_IT.bounds.iloc[0,3].round(2)\n",
    "# Note that the order for the CAMS API bounding box is Lat Max -> Lon Min -> Lat Min -> Lon Max\n",
    "bounding = [bounding_lat_max, bounding_lon_min, bounding_lat_min, bounding_lon_max]\n",
    "bounding"
   ]
  },
  {
   "cell_type": "markdown",
   "metadata": {},
   "source": [
    "## Download monthly data in **2021**"
   ]
  },
  {
   "cell_type": "code",
   "execution_count": 5,
   "metadata": {},
   "outputs": [
    {
     "name": "stderr",
     "output_type": "stream",
     "text": [
      "c:\\ProgramData\\Anaconda3\\envs\\Django\\lib\\site-packages\\IPython\\core\\interactiveshell.py:3398: UserWarning: Parsing '31/01/2021' in DD/MM/YYYY format. Provide format or specify infer_datetime_format=True for consistent parsing.\n",
      "  exec(code_obj, self.user_global_ns, self.user_ns)\n",
      "c:\\ProgramData\\Anaconda3\\envs\\Django\\lib\\site-packages\\IPython\\core\\interactiveshell.py:3398: UserWarning: Parsing '31/12/2021' in DD/MM/YYYY format. Provide format or specify infer_datetime_format=True for consistent parsing.\n",
      "  exec(code_obj, self.user_global_ns, self.user_ns)\n"
     ]
    },
    {
     "data": {
      "text/plain": [
       "DatetimeIndex(['2021-01-31', '2021-02-28', '2021-03-31', '2021-04-30',\n",
       "               '2021-05-31', '2021-06-30', '2021-07-31', '2021-08-31',\n",
       "               '2021-09-30', '2021-10-31', '2021-11-30', '2021-12-31'],\n",
       "              dtype='datetime64[ns]', freq='M')"
      ]
     },
     "execution_count": 5,
     "metadata": {},
     "output_type": "execute_result"
    }
   ],
   "source": [
    "# Create a list which consists of all the last days in 2021\n",
    "month_endday_2021 = pd.date_range(start='31/01/2021', end='31/12/2021',freq='M')\n",
    "month_endday_2021"
   ]
  },
  {
   "cell_type": "code",
   "execution_count": 6,
   "metadata": {},
   "outputs": [
    {
     "data": {
      "text/plain": [
       "DatetimeIndex(['2021-01-01', '2021-02-01', '2021-03-01', '2021-04-01',\n",
       "               '2021-05-01', '2021-06-01', '2021-07-01', '2021-08-01',\n",
       "               '2021-09-01', '2021-10-01', '2021-11-01', '2021-12-01'],\n",
       "              dtype='datetime64[ns]', freq=None)"
      ]
     },
     "execution_count": 6,
     "metadata": {},
     "output_type": "execute_result"
    }
   ],
   "source": [
    "# Create a list which consists of all the first days in 2021\n",
    "month_startday_2021 = month_endday_2021 - pd.offsets.MonthBegin()\n",
    "month_startday_2021"
   ]
  },
  {
   "cell_type": "code",
   "execution_count": 7,
   "metadata": {},
   "outputs": [
    {
     "data": {
      "text/plain": [
       "['2021-01-01/2021-01-31',\n",
       " '2021-02-01/2021-02-28',\n",
       " '2021-03-01/2021-03-31',\n",
       " '2021-04-01/2021-04-30',\n",
       " '2021-05-01/2021-05-31',\n",
       " '2021-06-01/2021-06-30',\n",
       " '2021-07-01/2021-07-31',\n",
       " '2021-08-01/2021-08-31',\n",
       " '2021-09-01/2021-09-30',\n",
       " '2021-10-01/2021-10-31',\n",
       " '2021-11-01/2021-11-30',\n",
       " '2021-12-01/2021-12-31']"
      ]
     },
     "execution_count": 7,
     "metadata": {},
     "output_type": "execute_result"
    }
   ],
   "source": [
    "# Combine the startday and lastday of each month in order to be used in CAMS API\n",
    "monthstartandend_2021 = []\n",
    "for i in range(12):\n",
    "    monthstartandend_tmp = str(month_startday_2021[i]).split()[0] + '/' + str(month_endday_2021[i]).split()[0]\n",
    "    monthstartandend_2021.append(monthstartandend_tmp)\n",
    "monthstartandend_2021"
   ]
  },
  {
   "cell_type": "markdown",
   "metadata": {},
   "source": [
    "### NO2"
   ]
  },
  {
   "cell_type": "code",
   "execution_count": null,
   "metadata": {},
   "outputs": [],
   "source": [
    "for i in range(12):\n",
    "    pollutant = 'nitrogen_dioxide'\n",
    "    pollutant_abbre = 'NO2'\n",
    "    current_year = '2021'\n",
    "    current_month = str(i+1).zfill(2)\n",
    "\n",
    "    c.retrieve(\n",
    "    'cams-europe-air-quality-forecasts',\n",
    "    {\n",
    "        'variable': pollutant,\n",
    "        'model': 'ensemble',\n",
    "        'level': '0',\n",
    "        'date': monthstartandend_2021[i],\n",
    "        'type': 'analysis',\n",
    "        'time': [\n",
    "            '00:00', '01:00', '02:00',\n",
    "            '03:00', '04:00', '05:00',\n",
    "            '06:00', '07:00', '08:00',\n",
    "            '09:00', '10:00', '11:00',\n",
    "            '12:00', '13:00', '14:00',\n",
    "            '15:00', '16:00', '17:00',\n",
    "            '18:00', '19:00', '20:00',\n",
    "            '21:00', '22:00', '23:00',\n",
    "        ],\n",
    "        'leadtime_hour': '0',\n",
    "        'format': 'netcdf',\n",
    "        'area': bounding,\n",
    "    },\n",
    "    cwd_CAMS + '\\\\' + current_year + '\\\\' + pollutant_abbre + '\\\\' + pollutant_abbre + current_year + current_month + '.nc')"
   ]
  },
  {
   "cell_type": "markdown",
   "metadata": {},
   "source": [
    "### Ozone"
   ]
  },
  {
   "cell_type": "code",
   "execution_count": null,
   "metadata": {},
   "outputs": [],
   "source": [
    "for i in range(12):\n",
    "    pollutant = 'ozone'\n",
    "    pollutant_abbre = 'O3'\n",
    "    current_year = '2021'\n",
    "    current_month = str(i+1).zfill(2)\n",
    "\n",
    "    c.retrieve(\n",
    "    'cams-europe-air-quality-forecasts',\n",
    "    {\n",
    "        'variable': pollutant,\n",
    "        'model': 'ensemble',\n",
    "        'level': '0',\n",
    "        'date': monthstartandend_2021[i],\n",
    "        'type': 'analysis',\n",
    "        'time': [\n",
    "            '00:00', '01:00', '02:00',\n",
    "            '03:00', '04:00', '05:00',\n",
    "            '06:00', '07:00', '08:00',\n",
    "            '09:00', '10:00', '11:00',\n",
    "            '12:00', '13:00', '14:00',\n",
    "            '15:00', '16:00', '17:00',\n",
    "            '18:00', '19:00', '20:00',\n",
    "            '21:00', '22:00', '23:00',\n",
    "        ],\n",
    "        'leadtime_hour': '0',\n",
    "        'format': 'netcdf',\n",
    "        'area': bounding,\n",
    "    },\n",
    "    cwd_CAMS + '\\\\' + current_year + '\\\\' + pollutant_abbre + '\\\\' + pollutant_abbre + current_year + current_month + '.nc')"
   ]
  },
  {
   "cell_type": "markdown",
   "metadata": {},
   "source": [
    "### PM 10"
   ]
  },
  {
   "cell_type": "code",
   "execution_count": null,
   "metadata": {},
   "outputs": [],
   "source": [
    "for i in range(12):\n",
    "    pollutant = 'particulate_matter_10um'\n",
    "    pollutant_abbre = 'PM10'\n",
    "    current_year = '2021'\n",
    "    current_month = str(i+1).zfill(2)\n",
    "\n",
    "    c.retrieve(\n",
    "    'cams-europe-air-quality-forecasts',\n",
    "    {\n",
    "        'variable': pollutant,\n",
    "        'model': 'ensemble',\n",
    "        'level': '0',\n",
    "        'date': monthstartandend_2021[i],\n",
    "        'type': 'analysis',\n",
    "        'time': [\n",
    "            '00:00', '01:00', '02:00',\n",
    "            '03:00', '04:00', '05:00',\n",
    "            '06:00', '07:00', '08:00',\n",
    "            '09:00', '10:00', '11:00',\n",
    "            '12:00', '13:00', '14:00',\n",
    "            '15:00', '16:00', '17:00',\n",
    "            '18:00', '19:00', '20:00',\n",
    "            '21:00', '22:00', '23:00',\n",
    "        ],\n",
    "        'leadtime_hour': '0',\n",
    "        'format': 'netcdf',\n",
    "        'area': bounding,\n",
    "    },\n",
    "    cwd_CAMS + '\\\\' + current_year + '\\\\' + pollutant_abbre + '\\\\' + pollutant_abbre + current_year + current_month + '.nc')"
   ]
  },
  {
   "cell_type": "markdown",
   "metadata": {},
   "source": [
    "### PM 2.5"
   ]
  },
  {
   "cell_type": "code",
   "execution_count": null,
   "metadata": {},
   "outputs": [],
   "source": [
    "for i in range(12):\n",
    "    pollutant = 'particulate_matter_2.5um'\n",
    "    pollutant_abbre = 'PM25'\n",
    "    current_year = '2021'\n",
    "    current_month = str(i+1).zfill(2)\n",
    "\n",
    "    c.retrieve(\n",
    "    'cams-europe-air-quality-forecasts',\n",
    "    {\n",
    "        'variable': pollutant,\n",
    "        'model': 'ensemble',\n",
    "        'level': '0',\n",
    "        'date': monthstartandend_2021[i],\n",
    "        'type': 'analysis',\n",
    "        'time': [\n",
    "            '00:00', '01:00', '02:00',\n",
    "            '03:00', '04:00', '05:00',\n",
    "            '06:00', '07:00', '08:00',\n",
    "            '09:00', '10:00', '11:00',\n",
    "            '12:00', '13:00', '14:00',\n",
    "            '15:00', '16:00', '17:00',\n",
    "            '18:00', '19:00', '20:00',\n",
    "            '21:00', '22:00', '23:00',\n",
    "        ],\n",
    "        'leadtime_hour': '0',\n",
    "        'format': 'netcdf',\n",
    "        'area': bounding,\n",
    "    },\n",
    "    cwd_CAMS + '\\\\' + current_year + '\\\\' + pollutant_abbre + '\\\\' + pollutant_abbre + current_year + current_month + '.nc')"
   ]
  }
 ],
 "metadata": {
  "kernelspec": {
   "display_name": "Python 3.10.4 ('Django')",
   "language": "python",
   "name": "python3"
  },
  "language_info": {
   "codemirror_mode": {
    "name": "ipython",
    "version": 3
   },
   "file_extension": ".py",
   "mimetype": "text/x-python",
   "name": "python",
   "nbconvert_exporter": "python",
   "pygments_lexer": "ipython3",
   "version": "3.10.4"
  },
  "orig_nbformat": 4,
  "vscode": {
   "interpreter": {
    "hash": "7afa1cb9a3c5ad40056603cb099f0b47ba2cafdea1c10862e45c5b18b0ff3b33"
   }
  }
 },
 "nbformat": 4,
 "nbformat_minor": 2
}
