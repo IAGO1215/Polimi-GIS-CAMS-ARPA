{
 "cells": [
  {
   "cell_type": "code",
   "execution_count": null,
   "metadata": {},
   "outputs": [],
   "source": [
    "import pandas as pd\n",
    "import geopandas as gpd\n",
    "import numpy as np\n",
    "import xarray as xr\n",
    "import glob\n",
    "import os\n",
    "import re\n",
    "# Absolute Data directory of ARPA data\n",
    "dd_arpa = \"c:\\\\Users\\\\m1865\\\\Desktop\\\\GIS Thesis Python\\\\ARPA\"\n",
    "# Set current working directory\n",
    "cwd = os.getcwd()\n",
    "cwd"
   ]
  },
  {
   "cell_type": "code",
   "execution_count": null,
   "metadata": {},
   "outputs": [],
   "source": [
    "# Create an empty file list where all the txt files downloaded from ARPA will be imported and saved\n",
    "myFile_NO2 = []\n",
    "myFile_O3 = []\n",
    "myFile_PM25 = []\n",
    "myFile_PM10 = []\n",
    "# Filter all the file names of the data from the data folder\n",
    "for filename in os.listdir(dd_arpa):\n",
    "    match = re.match(r'(.*)_2021(.*).txt', filename)\n",
    "    # print('Check Match')\n",
    "    if match:\n",
    "        # print('Matched!')\n",
    "        if match.group(1) == \"NO2\":\n",
    "            myFile_NO2.append(filename)\n",
    "        elif match.group(1) == \"O3\":\n",
    "            myFile_O3.append(filename)\n",
    "        elif match.group(1) == \"PM25\": \n",
    "            myFile_PM25.append(filename)\n",
    "        elif match.group(1) == \"PM10\":\n",
    "            myFile_PM10.append(filename)\n",
    "# myFile_ALL"
   ]
  },
  {
   "cell_type": "code",
   "execution_count": null,
   "metadata": {},
   "outputs": [],
   "source": [
    "# Read each txt file from the file list as dataframe and save into a new dataframe list\n",
    "myList_NO2 = []\n",
    "myList_O3 = []\n",
    "myList_PM10 = []\n",
    "myList_PM25 = []\n",
    "for filename in myFile_NO2:\n",
    "    df = pd.read_csv(dd_arpa + \"\\\\\" + filename, sep=\";\")\n",
    "    myList_NO2.append(df)\n",
    "for filename in myFile_O3:\n",
    "    df = pd.read_csv(dd_arpa + \"\\\\\" + filename, sep=\";\")\n",
    "    myList_O3.append(df)\n",
    "for filename in myFile_PM10:\n",
    "    df = pd.read_csv(dd_arpa + \"\\\\\" + filename, sep=\";\")\n",
    "    myList_PM10.append(df)\n",
    "for filename in myFile_PM25:\n",
    "    df = pd.read_csv(dd_arpa + \"\\\\\" + filename, sep=\";\")\n",
    "    myList_PM25.append(df)"
   ]
  },
  {
   "cell_type": "code",
   "execution_count": null,
   "metadata": {},
   "outputs": [],
   "source": [
    "# Check if it is correct\n",
    "# myList_NO2[0]"
   ]
  },
  {
   "cell_type": "code",
   "execution_count": null,
   "metadata": {},
   "outputs": [],
   "source": [
    "# Concatenate the dataframe in the list into one dataframe\n",
    "arpa_NO2 = pd.concat(myList_NO2, axis=0, ignore_index=True)\n",
    "arpa_O3 = pd.concat(myList_O3, axis=0, ignore_index=True)\n",
    "arpa_PM10 = pd.concat(myList_PM10, axis=0, ignore_index=True)\n",
    "arpa_PM25 = pd.concat(myList_PM25, axis=0, ignore_index=True)\n",
    "# arpa_NO2"
   ]
  },
  {
   "cell_type": "code",
   "execution_count": null,
   "metadata": {},
   "outputs": [],
   "source": [
    "myList_ALL = [arpa_NO2, arpa_O3, arpa_PM10, arpa_PM25]\n",
    "arpa_ALL = pd.concat(myList_ALL, axis=0, ignore_index=True)"
   ]
  },
  {
   "cell_type": "code",
   "execution_count": null,
   "metadata": {},
   "outputs": [],
   "source": [
    "# Convert to datetime, and assign two new columns for month and day\n",
    "arpa_ALL['Data'] = pd.to_datetime(arpa_ALL['Data'],format='%d/%m/%Y')\n",
    "arpa_ALL['Month'] = arpa_ALL['Data'].dt.month\n",
    "arpa_ALL['Day'] = arpa_ALL['Data'].dt.day"
   ]
  },
  {
   "cell_type": "code",
   "execution_count": null,
   "metadata": {},
   "outputs": [],
   "source": [
    "# Drop useless columns\n",
    "arpa_ALL = arpa_ALL.drop(columns=['Data','Cons'])\n",
    "# Reorder columns\n",
    "arpa_ALL = arpa_ALL[['Inquinante', 'Valore(ug/m3)','Month','Day','Cella_X','Cella_Y','Ora']]\n",
    "# Rename for better usage\n",
    "arpa_ALL.rename(columns={'Valore(ug/m3)': 'Valore'}, inplace=True)"
   ]
  },
  {
   "cell_type": "code",
   "execution_count": null,
   "metadata": {},
   "outputs": [],
   "source": [
    "arpa_ALL"
   ]
  },
  {
   "cell_type": "code",
   "execution_count": null,
   "metadata": {},
   "outputs": [],
   "source": [
    "df_refer = pd.read_csv(dd_arpa + \"\\\\\" + \"Dominio_1km.csv\", sep=\";\")\n",
    "# Rename the common two columns in order to merge with df_data\n",
    "df_refer.rename(columns={'CELLA_Y':'Cella_Y','CELLA_X':'Cella_X'},inplace=True)\n",
    "df_refer"
   ]
  },
  {
   "cell_type": "code",
   "execution_count": null,
   "metadata": {},
   "outputs": [],
   "source": [
    "df_arpa = pd.merge(arpa_ALL,df_refer,left_on=['Cella_X','Cella_Y'],right_on=['Cella_X','Cella_Y'])\n",
    "df_arpa"
   ]
  },
  {
   "cell_type": "code",
   "execution_count": null,
   "metadata": {},
   "outputs": [],
   "source": [
    "df_arpa_mean = df_arpa.groupby([\"Inquinante\",\"Month\",\"ID_CELLA\"],as_index=False).mean()\n",
    "df_arpa_mean = df_arpa_mean.drop(columns=[\"Day\",\"Ora\"])"
   ]
  },
  {
   "cell_type": "code",
   "execution_count": null,
   "metadata": {},
   "outputs": [],
   "source": [
    "df_arpa_mean"
   ]
  },
  {
   "cell_type": "code",
   "execution_count": null,
   "metadata": {},
   "outputs": [],
   "source": [
    "df_arpa_mean.to_csv(cwd + \"\\\\arpa_2021_all.csv\",index=False, chunksize=100000)"
   ]
  },
  {
   "cell_type": "code",
   "execution_count": null,
   "metadata": {},
   "outputs": [],
   "source": [
    "df_arpa_mean[df_arpa_mean['Inquinante']=='NO2'].to_csv(cwd + \"\\\\ARPA NO2.csv\", index=False)\n",
    "df_arpa_mean[df_arpa_mean['Inquinante']=='O3'].to_csv(cwd + \"\\\\ARPA O3.csv\", index=False)\n",
    "df_arpa_mean[df_arpa_mean['Inquinante']=='PM10'].to_csv(cwd + \"\\\\ARPA PM10.csv\", index=False)\n",
    "df_arpa_mean[df_arpa_mean['Inquinante']=='PM25'].to_csv(cwd + \"\\\\ARPA PM25.csv\", index=False)"
   ]
  },
  {
   "cell_type": "code",
   "execution_count": null,
   "metadata": {},
   "outputs": [],
   "source": []
  }
 ],
 "metadata": {
  "kernelspec": {
   "display_name": "Python 3.10.4 ('Django')",
   "language": "python",
   "name": "python3"
  },
  "language_info": {
   "codemirror_mode": {
    "name": "ipython",
    "version": 3
   },
   "file_extension": ".py",
   "mimetype": "text/x-python",
   "name": "python",
   "nbconvert_exporter": "python",
   "pygments_lexer": "ipython3",
   "version": "3.10.4"
  },
  "orig_nbformat": 4,
  "vscode": {
   "interpreter": {
    "hash": "7afa1cb9a3c5ad40056603cb099f0b47ba2cafdea1c10862e45c5b18b0ff3b33"
   }
  }
 },
 "nbformat": 4,
 "nbformat_minor": 2
}
