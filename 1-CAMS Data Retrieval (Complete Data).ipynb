{
 "cells": [
  {
   "cell_type": "markdown",
   "metadata": {},
   "source": [
    "# Description\n",
    "This script automatically downloads all the monthly data from \"European Air Quality Forecast\" dataset of the CAMS. "
   ]
  },
  {
   "cell_type": "code",
   "execution_count": 3,
   "metadata": {},
   "outputs": [],
   "source": [
    "import cdsapi\n",
    "import pandas as pd\n",
    "import os\n",
    "c = cdsapi.Client()\n",
    "cwd = os.getcwd()\n",
    "cwd_CAMS = cwd + \"\\\\CAMS\""
   ]
  },
  {
   "cell_type": "markdown",
   "metadata": {},
   "source": [
    "## Download monthly data in **2021**"
   ]
  },
  {
   "cell_type": "code",
   "execution_count": 19,
   "metadata": {},
   "outputs": [
    {
     "name": "stderr",
     "output_type": "stream",
     "text": [
      "c:\\ProgramData\\Anaconda3\\envs\\Django\\lib\\site-packages\\IPython\\core\\interactiveshell.py:3398: UserWarning: Parsing '31/12/2021' in DD/MM/YYYY format. Provide format or specify infer_datetime_format=True for consistent parsing.\n",
      "  exec(code_obj, self.user_global_ns, self.user_ns)\n"
     ]
    },
    {
     "data": {
      "text/plain": [
       "DatetimeIndex(['2021-01-31', '2021-02-28', '2021-03-31', '2021-04-30',\n",
       "               '2021-05-31', '2021-06-30', '2021-07-31', '2021-08-31',\n",
       "               '2021-09-30', '2021-10-31', '2021-11-30', '2021-12-31'],\n",
       "              dtype='datetime64[ns]', freq='M')"
      ]
     },
     "execution_count": 19,
     "metadata": {},
     "output_type": "execute_result"
    }
   ],
   "source": [
    "# Create a list which consists of all the last days in 2021\n",
    "month_endday_2021 = pd.date_range(start='31/01/2021', end='31/12/2021',freq='M')\n",
    "month_endday_2021"
   ]
  },
  {
   "cell_type": "code",
   "execution_count": 21,
   "metadata": {},
   "outputs": [
    {
     "data": {
      "text/plain": [
       "DatetimeIndex(['2021-01-01', '2021-02-01', '2021-03-01', '2021-04-01',\n",
       "               '2021-05-01', '2021-06-01', '2021-07-01', '2021-08-01',\n",
       "               '2021-09-01', '2021-10-01', '2021-11-01', '2021-12-01'],\n",
       "              dtype='datetime64[ns]', freq=None)"
      ]
     },
     "execution_count": 21,
     "metadata": {},
     "output_type": "execute_result"
    }
   ],
   "source": [
    "# Create a list which consists of all the first days in 2021\n",
    "month_startday_2021 = month_endday_2021 - pd.offsets.MonthBegin()\n",
    "month_startday_2021"
   ]
  },
  {
   "cell_type": "code",
   "execution_count": 30,
   "metadata": {},
   "outputs": [
    {
     "data": {
      "text/plain": [
       "['2021-01-01/2021-01-31',\n",
       " '2021-02-01/2021-02-28',\n",
       " '2021-03-01/2021-03-31',\n",
       " '2021-04-01/2021-04-30',\n",
       " '2021-05-01/2021-05-31',\n",
       " '2021-06-01/2021-06-30',\n",
       " '2021-07-01/2021-07-31',\n",
       " '2021-08-01/2021-08-31',\n",
       " '2021-09-01/2021-09-30',\n",
       " '2021-10-01/2021-10-31',\n",
       " '2021-11-01/2021-11-30',\n",
       " '2021-12-01/2021-12-31']"
      ]
     },
     "execution_count": 30,
     "metadata": {},
     "output_type": "execute_result"
    }
   ],
   "source": [
    "# Combine the startday and lastday of each month in order to be used in CAMS API\n",
    "monthstartandend_2021 = []\n",
    "for i in range(12):\n",
    "    monthstartandend_tmp = str(month_startday_2021[i]).split()[0] + '/' + str(month_endday_2021[i]).split()[0]\n",
    "    monthstartandend_2021.append(monthstartandend_tmp)\n",
    "monthstartandend_2021"
   ]
  },
  {
   "cell_type": "markdown",
   "metadata": {},
   "source": [
    "### NO2"
   ]
  },
  {
   "cell_type": "code",
   "execution_count": null,
   "metadata": {},
   "outputs": [],
   "source": [
    "for i in range(12):\n",
    "    pollutant = 'nitrogen_dioxide'\n",
    "    pollutant_abbre = 'NO2'\n",
    "    current_year = '2021'\n",
    "    current_month = str(i+1).zfill(2)\n",
    "\n",
    "    c.retrieve(\n",
    "    'cams-europe-air-quality-forecasts',\n",
    "    {\n",
    "        'variable': pollutant,\n",
    "        'model': 'ensemble',\n",
    "        'level': '0',\n",
    "        'date': monthstartandend_2021[i],\n",
    "        'type': 'analysis',\n",
    "        'time': [\n",
    "            '00:00', '01:00', '02:00',\n",
    "            '03:00', '04:00', '05:00',\n",
    "            '06:00', '07:00', '08:00',\n",
    "            '09:00', '10:00', '11:00',\n",
    "            '12:00', '13:00', '14:00',\n",
    "            '15:00', '16:00', '17:00',\n",
    "            '18:00', '19:00', '20:00',\n",
    "            '21:00', '22:00', '23:00',\n",
    "        ],\n",
    "        'leadtime_hour': '0',\n",
    "        'format': 'netcdf',\n",
    "    },\n",
    "    cwd_CAMS + '\\\\' + current_year + '\\\\' + pollutant_abbre + '\\\\' + pollutant_abbre + current_year + current_month + '.nc')"
   ]
  },
  {
   "cell_type": "markdown",
   "metadata": {},
   "source": [
    "### Ozone"
   ]
  },
  {
   "cell_type": "code",
   "execution_count": null,
   "metadata": {},
   "outputs": [],
   "source": [
    "for i in range(12):\n",
    "    pollutant = 'ozone'\n",
    "    pollutant_abbre = 'O3'\n",
    "    current_year = '2021'\n",
    "    current_month = str(i+1).zfill(2)\n",
    "\n",
    "    c.retrieve(\n",
    "    'cams-europe-air-quality-forecasts',\n",
    "    {\n",
    "        'variable': pollutant,\n",
    "        'model': 'ensemble',\n",
    "        'level': '0',\n",
    "        'date': monthstartandend_2021[i],\n",
    "        'type': 'analysis',\n",
    "        'time': [\n",
    "            '00:00', '01:00', '02:00',\n",
    "            '03:00', '04:00', '05:00',\n",
    "            '06:00', '07:00', '08:00',\n",
    "            '09:00', '10:00', '11:00',\n",
    "            '12:00', '13:00', '14:00',\n",
    "            '15:00', '16:00', '17:00',\n",
    "            '18:00', '19:00', '20:00',\n",
    "            '21:00', '22:00', '23:00',\n",
    "        ],\n",
    "        'leadtime_hour': '0',\n",
    "        'format': 'netcdf',\n",
    "    },\n",
    "    cwd_CAMS + '\\\\' + current_year + '\\\\' + pollutant_abbre + '\\\\' + pollutant_abbre + current_year + current_month + '.nc')"
   ]
  },
  {
   "cell_type": "markdown",
   "metadata": {},
   "source": [
    "### PM 10"
   ]
  },
  {
   "cell_type": "code",
   "execution_count": null,
   "metadata": {},
   "outputs": [],
   "source": [
    "for i in range(12):\n",
    "    pollutant = 'particulate_matter_10um'\n",
    "    pollutant_abbre = 'PM10'\n",
    "    current_year = '2021'\n",
    "    current_month = str(i+1).zfill(2)\n",
    "\n",
    "    c.retrieve(\n",
    "    'cams-europe-air-quality-forecasts',\n",
    "    {\n",
    "        'variable': pollutant,\n",
    "        'model': 'ensemble',\n",
    "        'level': '0',\n",
    "        'date': monthstartandend_2021[i],\n",
    "        'type': 'analysis',\n",
    "        'time': [\n",
    "            '00:00', '01:00', '02:00',\n",
    "            '03:00', '04:00', '05:00',\n",
    "            '06:00', '07:00', '08:00',\n",
    "            '09:00', '10:00', '11:00',\n",
    "            '12:00', '13:00', '14:00',\n",
    "            '15:00', '16:00', '17:00',\n",
    "            '18:00', '19:00', '20:00',\n",
    "            '21:00', '22:00', '23:00',\n",
    "        ],\n",
    "        'leadtime_hour': '0',\n",
    "        'format': 'netcdf',\n",
    "    },\n",
    "    cwd_CAMS + '\\\\' + current_year + '\\\\' + pollutant_abbre + '\\\\' + pollutant_abbre + current_year + current_month + '.nc')"
   ]
  },
  {
   "cell_type": "markdown",
   "metadata": {},
   "source": [
    "### PM 2.5"
   ]
  },
  {
   "cell_type": "code",
   "execution_count": null,
   "metadata": {},
   "outputs": [],
   "source": [
    "for i in range(12):\n",
    "    pollutant = 'particulate_matter_2.5um'\n",
    "    pollutant_abbre = 'PM25'\n",
    "    current_year = '2021'\n",
    "    current_month = str(i+1).zfill(2)\n",
    "\n",
    "    c.retrieve(\n",
    "    'cams-europe-air-quality-forecasts',\n",
    "    {\n",
    "        'variable': pollutant,\n",
    "        'model': 'ensemble',\n",
    "        'level': '0',\n",
    "        'date': monthstartandend_2021[i],\n",
    "        'type': 'analysis',\n",
    "        'time': [\n",
    "            '00:00', '01:00', '02:00',\n",
    "            '03:00', '04:00', '05:00',\n",
    "            '06:00', '07:00', '08:00',\n",
    "            '09:00', '10:00', '11:00',\n",
    "            '12:00', '13:00', '14:00',\n",
    "            '15:00', '16:00', '17:00',\n",
    "            '18:00', '19:00', '20:00',\n",
    "            '21:00', '22:00', '23:00',\n",
    "        ],\n",
    "        'leadtime_hour': '0',\n",
    "        'format': 'netcdf',\n",
    "    },\n",
    "    cwd_CAMS + '\\\\' + current_year + '\\\\' + pollutant_abbre + '\\\\' + pollutant_abbre + current_year + current_month + '.nc')"
   ]
  }
 ],
 "metadata": {
  "kernelspec": {
   "display_name": "Python 3.10.4 ('Django')",
   "language": "python",
   "name": "python3"
  },
  "language_info": {
   "codemirror_mode": {
    "name": "ipython",
    "version": 3
   },
   "file_extension": ".py",
   "mimetype": "text/x-python",
   "name": "python",
   "nbconvert_exporter": "python",
   "pygments_lexer": "ipython3",
   "version": "3.10.4"
  },
  "orig_nbformat": 4,
  "vscode": {
   "interpreter": {
    "hash": "7afa1cb9a3c5ad40056603cb099f0b47ba2cafdea1c10862e45c5b18b0ff3b33"
   }
  }
 },
 "nbformat": 4,
 "nbformat_minor": 2
}
