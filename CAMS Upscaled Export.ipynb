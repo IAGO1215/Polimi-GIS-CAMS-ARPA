{
 "cells": [
  {
   "cell_type": "code",
   "execution_count": null,
   "metadata": {},
   "outputs": [],
   "source": [
    "import pandas as pd\n",
    "import geopandas as gpd\n",
    "import numpy as np\n",
    "import xarray as xr\n",
    "import glob\n",
    "import os\n",
    "import re\n",
    "import sys\n",
    "import xarray as xr\n",
    "import rioxarray as rio\n",
    "sys.path.append(os.path.abspath(\"c:\\\\Users\\\\m1865\\\\Desktop\\\\GIS Thesis Python\"))\n",
    "import mySTD\n",
    "# Data directory of ARPA data\n",
    "dd_arpa = \"c:\\\\Users\\\\m1865\\\\Desktop\\\\GIS Thesis Python\\\\ARPA\"\n",
    "dd_cams = \"c:\\\\Users\\\\m1865\\\\Desktop\\\\GIS Thesis Python\\\\CAMS\"\n",
    "dd_main = \"c:\\\\Users\\\\m1865\\\\Desktop\\\\GIS Thesis Python\"\n",
    "# Set current working directory\n",
    "cwd = os.getcwd()\n",
    "cwd"
   ]
  },
  {
   "cell_type": "code",
   "execution_count": null,
   "metadata": {},
   "outputs": [],
   "source": [
    "myFile_NO2 = []\n",
    "myFile_O3 = []\n",
    "myFile_PM25 = []\n",
    "myFile_PM10 = []\n",
    "# Filter all the file names of the data from the data folder\n",
    "for filename in os.listdir(dd_cams):\n",
    "    match = re.match(r'(.*)2021(.*).nc', filename)\n",
    "    # print('Check Match')\n",
    "    if match:\n",
    "        # print('Matched!')\n",
    "        if match.group(1) == \"NO2\":\n",
    "            myFile_NO2.append(filename)\n",
    "        elif match.group(1) == \"ozone\":\n",
    "            myFile_O3.append(filename)\n",
    "        elif match.group(1) == \"PM25\": \n",
    "            myFile_PM25.append(filename)\n",
    "        elif match.group(1) == \"PM10\":\n",
    "            myFile_PM10.append(filename)"
   ]
  },
  {
   "cell_type": "code",
   "execution_count": null,
   "metadata": {},
   "outputs": [],
   "source": [
    "myList_NO2 = []\n",
    "myList_O3 = []\n",
    "myList_PM10 = []\n",
    "myList_PM25 = []\n",
    "for filename in myFile_NO2:\n",
    "    ds = xr.open_dataset(dd_cams + \"\\\\\" + filename)\n",
    "    newlong = mySTD.Lon360to180(ds)\n",
    "    newtime = mySTD.TimetoDate64(ds)\n",
    "    ds = ds.assign_coords(time=newtime,longitude=newlong).sortby(\"longitude\")\n",
    "    # print(ds.time.dt.month)\n",
    "    myList_NO2.append(ds)\n",
    "for filename in myFile_O3:\n",
    "    ds = xr.open_dataset(dd_cams + \"\\\\\" + filename)\n",
    "    newlong = mySTD.Lon360to180(ds)\n",
    "    newtime = mySTD.TimetoDate64(ds)\n",
    "    ds = ds.assign_coords(time=newtime,longitude=newlong).sortby(\"longitude\")\n",
    "    myList_O3.append(ds)\n",
    "for filename in myFile_PM10:\n",
    "    ds = xr.open_dataset(dd_cams + \"\\\\\" + filename)\n",
    "    newlong = mySTD.Lon360to180(ds)\n",
    "    newtime = mySTD.TimetoDate64(ds)\n",
    "    ds = ds.assign_coords(time=newtime,longitude=newlong).sortby(\"longitude\")\n",
    "    myList_PM10.append(ds)\n",
    "for filename in myFile_PM25:\n",
    "    ds = xr.open_dataset(dd_cams + \"\\\\\" + filename)\n",
    "    newlong = mySTD.Lon360to180(ds)\n",
    "    newtime = mySTD.TimetoDate64(ds)\n",
    "    ds = ds.assign_coords(time=newtime,longitude=newlong).sortby(\"longitude\")\n",
    "    myList_PM25.append(ds)"
   ]
  },
  {
   "cell_type": "code",
   "execution_count": null,
   "metadata": {},
   "outputs": [],
   "source": [
    "# Check\n",
    "myList_NO2[1]"
   ]
  },
  {
   "cell_type": "code",
   "execution_count": null,
   "metadata": {},
   "outputs": [],
   "source": [
    "myList_NO2_Mean = []\n",
    "myList_O3_Mean = []\n",
    "myList_PM10_Mean = []\n",
    "myList_PM25_Mean = []\n",
    "for i in range(len(myList_NO2)):\n",
    "    ds = myList_NO2[i]\n",
    "    ds = ds.mean(dim='time')\n",
    "    ds = ds.mean(dim='level')\n",
    "    ds = ds.assign_attrs({\"month\": i+1})\n",
    "    myList_NO2_Mean.append(ds)\n",
    "for i in range(len(myList_O3)):\n",
    "    ds = myList_O3[i]\n",
    "    ds = ds.mean(dim='time')\n",
    "    ds = ds.mean(dim='level')\n",
    "    ds = ds.assign_attrs({\"month\": i+1})\n",
    "    myList_O3_Mean.append(ds)\n",
    "for i in range(len(myList_PM10)):\n",
    "    ds = myList_PM10[i]\n",
    "    ds = ds.mean(dim='time')\n",
    "    ds = ds.mean(dim='level')\n",
    "    ds = ds.assign_attrs({\"month\": i+1})\n",
    "    myList_PM10_Mean.append(ds)\n",
    "for i in range(len(myList_PM25)):\n",
    "    ds = myList_PM25[i]\n",
    "    ds = ds.mean(dim='time')\n",
    "    ds = ds.mean(dim='level')\n",
    "    ds = ds.assign_attrs({\"month\": i+1})\n",
    "    myList_PM25_Mean.append(ds)"
   ]
  },
  {
   "cell_type": "code",
   "execution_count": null,
   "metadata": {},
   "outputs": [],
   "source": [
    "# Check\n",
    "myList_PM25_Mean[4]"
   ]
  },
  {
   "cell_type": "code",
   "execution_count": null,
   "metadata": {},
   "outputs": [],
   "source": [
    "lom = gpd.read_file('..\\lom.shp')"
   ]
  },
  {
   "cell_type": "code",
   "execution_count": null,
   "metadata": {},
   "outputs": [],
   "source": [
    "myList_NO2_Clipped = []\n",
    "myList_O3_Clipped = []\n",
    "myList_PM10_Clipped = []\n",
    "myList_PM25_Clipped = []\n",
    "for i in range(len(myList_NO2_Mean)):\n",
    "    ds = myList_NO2_Mean[i]\n",
    "    ds.rio.write_crs(4326, inplace=True)\n",
    "    ds = ds.rio.clip(lom.geometry, lom.crs, drop=True, invert = False)\n",
    "    myList_NO2_Clipped.append(ds)\n",
    "for i in range(len(myList_O3_Mean)):\n",
    "    ds = myList_O3_Mean[i]\n",
    "    ds.rio.write_crs(4326, inplace=True)\n",
    "    ds = ds.rio.clip(lom.geometry, lom.crs, drop=True, invert = False)\n",
    "    myList_O3_Clipped.append(ds)\n",
    "for i in range(len(myList_PM10_Mean)):\n",
    "    ds = myList_PM10_Mean[i]\n",
    "    ds.rio.write_crs(4326, inplace=True)\n",
    "    ds = ds.rio.clip(lom.geometry, lom.crs, drop=True, invert = False)\n",
    "    myList_PM10_Clipped.append(ds)\n",
    "for i in range(len(myList_PM25_Mean)):\n",
    "    ds = myList_PM25_Mean[i]\n",
    "    ds.rio.write_crs(4326, inplace=True)\n",
    "    ds = ds.rio.clip(lom.geometry, lom.crs, drop=True, invert = False)\n",
    "    myList_PM25_Clipped.append(ds)\n"
   ]
  },
  {
   "cell_type": "code",
   "execution_count": null,
   "metadata": {},
   "outputs": [],
   "source": [
    "print(myList_NO2_Clipped[0].mean())\n",
    "myList_NO2_Clipped[0]"
   ]
  },
  {
   "cell_type": "code",
   "execution_count": null,
   "metadata": {},
   "outputs": [],
   "source": [
    "# Upscale CAMS\n",
    "myList_NO2_Clipped_Up = []\n",
    "myList_O3_Clipped_Up = []\n",
    "myList_PM10_Clipped_Up = []\n",
    "myList_PM25_Clipped_Up = []\n",
    "from geocube.api.core import make_geocube\n",
    "from geocube.rasterize import rasterize_points_griddata, rasterize_points_radial\n",
    "for i in range(len(myList_NO2_Clipped)):\n",
    "    ds = myList_NO2_Clipped[i].to_dataframe().reset_index()\n",
    "    ds = gpd.GeoDataFrame(ds.no2_conc,geometry=gpd.points_from_xy(ds.longitude,ds.latitude))\n",
    "    ds = ds.dropna()\n",
    "    ds = make_geocube(\n",
    "        vector_data=ds,\n",
    "        measurements=['no2_conc'],\n",
    "        resolution=(-0.01, 0.01),\n",
    "        rasterize_function=rasterize_points_griddata,\n",
    "    )\n",
    "    ds.rio.write_crs(4326, inplace=True)\n",
    "    upscale_clip = ds.rio.clip(lom.geometry, lom.crs, drop=True, invert = False)\n",
    "    myList_NO2_Clipped_Up.append(upscale_clip)\n",
    "for i in range(len(myList_O3_Clipped)):\n",
    "    ds = myList_O3_Clipped[i].to_dataframe().reset_index()\n",
    "    ds = gpd.GeoDataFrame(ds.o3_conc,geometry=gpd.points_from_xy(ds.longitude,ds.latitude))\n",
    "    ds = ds.dropna()\n",
    "    ds = make_geocube(\n",
    "        vector_data=ds,\n",
    "        measurements=['o3_conc'],\n",
    "        resolution=(-0.01, 0.01),\n",
    "        rasterize_function=rasterize_points_griddata,\n",
    "    )\n",
    "    ds.rio.write_crs(4326, inplace=True)\n",
    "    upscale_clip = ds.rio.clip(lom.geometry, lom.crs, drop=True, invert = False)\n",
    "    myList_O3_Clipped_Up.append(upscale_clip)\n",
    "for i in range(len(myList_PM10_Clipped)):\n",
    "    ds = myList_PM10_Clipped[i].to_dataframe().reset_index()\n",
    "    ds = gpd.GeoDataFrame(ds.pm10_conc,geometry=gpd.points_from_xy(ds.longitude,ds.latitude))\n",
    "    ds = ds.dropna()\n",
    "    ds = make_geocube(\n",
    "        vector_data=ds,\n",
    "        measurements=['pm10_conc'],\n",
    "        resolution=(-0.01, 0.01),\n",
    "        rasterize_function=rasterize_points_griddata,\n",
    "    )\n",
    "    ds.rio.write_crs(4326, inplace=True)\n",
    "    upscale_clip = ds.rio.clip(lom.geometry, lom.crs, drop=True, invert = False)\n",
    "    myList_PM10_Clipped_Up.append(upscale_clip)\n",
    "for i in range(len(myList_PM25_Clipped)):\n",
    "    ds = myList_PM25_Clipped[i].to_dataframe().reset_index()\n",
    "    ds = gpd.GeoDataFrame(ds.pm2p5_conc,geometry=gpd.points_from_xy(ds.longitude,ds.latitude))\n",
    "    ds = ds.dropna()\n",
    "    ds = make_geocube(\n",
    "        vector_data=ds,\n",
    "        measurements=['pm2p5_conc'],\n",
    "        resolution=(-0.01, 0.01),\n",
    "        rasterize_function=rasterize_points_griddata,\n",
    "    )\n",
    "    ds.rio.write_crs(4326, inplace=True)\n",
    "    upscale_clip = ds.rio.clip(lom.geometry, lom.crs, drop=True, invert = False)\n",
    "    myList_PM25_Clipped_Up.append(upscale_clip)"
   ]
  },
  {
   "cell_type": "code",
   "execution_count": null,
   "metadata": {},
   "outputs": [],
   "source": [
    "myList_PM25_Clipped_Up[0]"
   ]
  },
  {
   "cell_type": "code",
   "execution_count": null,
   "metadata": {},
   "outputs": [],
   "source": [
    "cams_gdf_NO2 = []\n",
    "for i in range(len(myList_NO2_Clipped_Up)):\n",
    "    ds = myList_NO2_Clipped_Up[i].to_dataframe().reset_index()\n",
    "    ds = gpd.GeoDataFrame(ds.no2_conc,geometry=gpd.points_from_xy(ds.x,ds.y))\n",
    "    ds = ds.dropna()\n",
    "    ds = ds.set_crs('epsg:4326')\n",
    "    ds = ds.to_crs(32632)\n",
    "    ds['EST_UTM'] = ds.geometry.x\n",
    "    ds['NORD_UTM'] = ds.geometry.y\n",
    "    ds = ds.round({'EST_UTM': -3, 'NORD_UTM': -3})\n",
    "    ds = ds.drop(columns={'geometry'})\n",
    "    ds['Month'] = i+1\n",
    "    ds = pd.DataFrame(ds)\n",
    "    cams_gdf_NO2.append(ds)\n"
   ]
  },
  {
   "cell_type": "code",
   "execution_count": null,
   "metadata": {},
   "outputs": [],
   "source": [
    "cams_gdf_NO2[0]"
   ]
  },
  {
   "cell_type": "code",
   "execution_count": null,
   "metadata": {},
   "outputs": [],
   "source": [
    "cams_gdf_O3 = []\n",
    "for i in range(len(myList_O3_Clipped_Up)):\n",
    "    ds = myList_O3_Clipped_Up[i].to_dataframe().reset_index()\n",
    "    ds = gpd.GeoDataFrame(ds.o3_conc,geometry=gpd.points_from_xy(ds.x,ds.y))\n",
    "    ds = ds.dropna()\n",
    "    ds = ds.set_crs('epsg:4326')\n",
    "    ds = ds.to_crs(32632)\n",
    "    ds['EST_UTM'] = ds.geometry.x\n",
    "    ds['NORD_UTM'] = ds.geometry.y\n",
    "    ds = ds.round({'EST_UTM': -3, 'NORD_UTM': -3})\n",
    "    ds = ds.drop(columns={'geometry'})\n",
    "    ds['Month'] = i+1\n",
    "    ds = pd.DataFrame(ds)\n",
    "    cams_gdf_O3.append(ds)"
   ]
  },
  {
   "cell_type": "code",
   "execution_count": null,
   "metadata": {},
   "outputs": [],
   "source": [
    "cams_gdf_PM10 = []\n",
    "for i in range(len(myList_PM10_Clipped_Up)):\n",
    "    ds = myList_PM10_Clipped_Up[i].to_dataframe().reset_index()\n",
    "    ds = gpd.GeoDataFrame(ds.pm10_conc,geometry=gpd.points_from_xy(ds.x,ds.y))\n",
    "    ds = ds.dropna()\n",
    "    ds = ds.set_crs('epsg:4326')\n",
    "    ds = ds.to_crs(32632)\n",
    "    ds['EST_UTM'] = ds.geometry.x\n",
    "    ds['NORD_UTM'] = ds.geometry.y\n",
    "    ds = ds.round({'EST_UTM': -3, 'NORD_UTM': -3})\n",
    "    ds = ds.drop(columns={'geometry'})\n",
    "    ds['Month'] = i+1\n",
    "    ds = pd.DataFrame(ds)\n",
    "    cams_gdf_PM10.append(ds)"
   ]
  },
  {
   "cell_type": "code",
   "execution_count": null,
   "metadata": {},
   "outputs": [],
   "source": [
    "cams_gdf_PM25 = []\n",
    "for i in range(len(myList_PM25_Clipped_Up)):\n",
    "    ds = myList_PM25_Clipped_Up[i].to_dataframe().reset_index()\n",
    "    ds = gpd.GeoDataFrame(ds.pm2p5_conc,geometry=gpd.points_from_xy(ds.x,ds.y))\n",
    "    ds = ds.dropna()\n",
    "    ds = ds.set_crs('epsg:4326')\n",
    "    ds = ds.to_crs(32632)\n",
    "    ds['EST_UTM'] = ds.geometry.x\n",
    "    ds['NORD_UTM'] = ds.geometry.y\n",
    "    ds = ds.round({'EST_UTM': -3, 'NORD_UTM': -3})\n",
    "    ds = ds.drop(columns={'geometry'})\n",
    "    ds['Month'] = i+1\n",
    "    ds = pd.DataFrame(ds)\n",
    "    cams_gdf_PM25.append(ds)"
   ]
  },
  {
   "cell_type": "code",
   "execution_count": null,
   "metadata": {},
   "outputs": [],
   "source": [
    "cams_NO2 = pd.concat(cams_gdf_NO2)\n",
    "cams_O3 = pd.concat(cams_gdf_O3)\n",
    "cams_PM10 = pd.concat(cams_gdf_PM10)\n",
    "cams_PM25 = pd.concat(cams_gdf_PM25)\n",
    "cams_NO2"
   ]
  },
  {
   "cell_type": "code",
   "execution_count": null,
   "metadata": {},
   "outputs": [],
   "source": [
    "cams_NO2.to_csv('CAMS NO2 Upscale.csv', index=False)\n",
    "cams_O3.to_csv('CAMS O3 Upscale.csv', index=False)\n",
    "cams_PM10.to_csv('CAMS PM10 Upscale.csv', index=False)\n",
    "cams_PM25.to_csv('CAMS PM25 Upscale.csv', index=False)"
   ]
  },
  {
   "cell_type": "code",
   "execution_count": null,
   "metadata": {},
   "outputs": [],
   "source": [
    "# cams_ALL_List = [cams_NO2, cams_O3, cams_PM10, cams_PM25]\n",
    "# cams_ALL = pd.concat(cams_ALL_List)\n",
    "# cams_ALL"
   ]
  },
  {
   "cell_type": "code",
   "execution_count": null,
   "metadata": {},
   "outputs": [],
   "source": []
  }
 ],
 "metadata": {
  "kernelspec": {
   "display_name": "Python 3.10.4 ('Django')",
   "language": "python",
   "name": "python3"
  },
  "language_info": {
   "codemirror_mode": {
    "name": "ipython",
    "version": 3
   },
   "file_extension": ".py",
   "mimetype": "text/x-python",
   "name": "python",
   "nbconvert_exporter": "python",
   "pygments_lexer": "ipython3",
   "version": "3.10.4 | packaged by conda-forge | (main, Mar 30 2022, 08:38:02) [MSC v.1916 64 bit (AMD64)]"
  },
  "orig_nbformat": 4,
  "vscode": {
   "interpreter": {
    "hash": "7afa1cb9a3c5ad40056603cb099f0b47ba2cafdea1c10862e45c5b18b0ff3b33"
   }
  }
 },
 "nbformat": 4,
 "nbformat_minor": 2
}
